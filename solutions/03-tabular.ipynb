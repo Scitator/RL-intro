{
 "cells": [
  {
   "cell_type": "markdown",
   "metadata": {},
   "source": [
    "### Markov decision process\n",
    "\n",
    "This week's methods are all built to solve __M__arkov __D__ecision __P__rocesses. In the broadest sense, an MDP is defined by how it changes states and how rewards are computed.\n",
    "\n",
    "State transition is defined by $P(s' |s,a)$ - how likely are you to end at state $s'$ if you take action $a$ from state $s$. Now there's more than one way to define rewards, but we'll use $r(s,a,s')$ function for convenience.\n",
    "\n",
    "_This notebook is inspired by the awesome_ [CS294](https://github.com/berkeleydeeprlcourse/homework/blob/36a0b58261acde756abd55306fbe63df226bf62b/hw2/HW2.ipynb) _by Berkeley_"
   ]
  },
  {
   "cell_type": "markdown",
   "metadata": {},
   "source": [
    "For starters, let's define a simple MDP from this picture:\n",
    "<img src='https://upload.wikimedia.org/wikipedia/commons/thumb/a/ad/Markov_Decision_Process.svg/800px-Markov_Decision_Process.svg.png' width=300px>\n",
    "_img by MistWiz (Own work) [Public domain], via Wikimedia Commons_"
   ]
  },
  {
   "cell_type": "code",
   "execution_count": 1,
   "metadata": {
    "ExecuteTime": {
     "end_time": "2018-04-02T13:44:32.642838Z",
     "start_time": "2018-04-02T13:44:32.545142Z"
    }
   },
   "outputs": [],
   "source": [
    "# If you Colab, uncomment this please\n",
    "# !wget -q https://raw.githubusercontent.com/yandexdataschool/Practical_RL/spring19/week02_value_based/mdp.py\n",
    "\n",
    "transition_probs = {\n",
    "    's0': {\n",
    "        'a0': {'s0': 0.5, 's2': 0.5},\n",
    "        'a1': {'s2': 1}\n",
    "    },\n",
    "    's1': {\n",
    "        'a0': {'s0': 0.7, 's1': 0.1, 's2': 0.2},\n",
    "        'a1': {'s1': 0.95, 's2': 0.05}\n",
    "    },\n",
    "    's2': {\n",
    "        'a0': {'s0': 0.4, 's1': 0.6},\n",
    "        'a1': {'s0': 0.3, 's1': 0.3, 's2': 0.4}\n",
    "    }\n",
    "}\n",
    "rewards = {\n",
    "    's1': {'a0': {'s0': +5}},\n",
    "    's2': {'a1': {'s0': -1}}\n",
    "}\n",
    "\n",
    "from mdp import MDP\n",
    "mdp = MDP(transition_probs, rewards, initial_state='s0')"
   ]
  },
  {
   "cell_type": "markdown",
   "metadata": {},
   "source": [
    "We can now use MDP just as any other gym environment:"
   ]
  },
  {
   "cell_type": "code",
   "execution_count": 2,
   "metadata": {
    "ExecuteTime": {
     "end_time": "2018-04-02T13:44:34.203384Z",
     "start_time": "2018-04-02T13:44:34.199297Z"
    }
   },
   "outputs": [
    {
     "name": "stdout",
     "output_type": "stream",
     "text": [
      "initial state = s0\n",
      "next_state = s2, reward = 0.0, done = False\n"
     ]
    }
   ],
   "source": [
    "print('initial state =', mdp.reset())\n",
    "next_state, reward, done, info = mdp.step('a1')\n",
    "print('next_state = %s, reward = %s, done = %s' % (next_state, reward, done))"
   ]
  },
  {
   "cell_type": "markdown",
   "metadata": {},
   "source": [
    "but it also has other methods that you'll need for Value Iteration"
   ]
  },
  {
   "cell_type": "code",
   "execution_count": 3,
   "metadata": {
    "ExecuteTime": {
     "end_time": "2018-04-02T13:44:34.956122Z",
     "start_time": "2018-04-02T13:44:34.949856Z"
    }
   },
   "outputs": [
    {
     "name": "stdout",
     "output_type": "stream",
     "text": [
      "mdp.get_all_states = ('s0', 's1', 's2')\n",
      "mdp.get_possible_actions('s1') =  ('a0', 'a1')\n",
      "mdp.get_next_states('s1', 'a0') =  {'s0': 0.7, 's1': 0.1, 's2': 0.2}\n",
      "mdp.get_reward('s1', 'a0', 's0') =  5\n",
      "mdp.get_transition_prob('s1', 'a0', 's0') =  0.7\n"
     ]
    }
   ],
   "source": [
    "print(\"mdp.get_all_states =\", mdp.get_all_states())\n",
    "print(\"mdp.get_possible_actions('s1') = \", mdp.get_possible_actions('s1'))\n",
    "print(\"mdp.get_next_states('s1', 'a0') = \", mdp.get_next_states('s1', 'a0'))\n",
    "print(\"mdp.get_reward('s1', 'a0', 's0') = \", mdp.get_reward('s1', 'a0', 's0'))\n",
    "print(\"mdp.get_transition_prob('s1', 'a0', 's0') = \",\n",
    "      mdp.get_transition_prob('s1', 'a0', 's0'))"
   ]
  },
  {
   "cell_type": "markdown",
   "metadata": {},
   "source": [
    "### Optional: Visualizing MDPs\n",
    "\n",
    "You can also visualize any MDP with the drawing fuction donated by [neer201](https://github.com/neer201).\n",
    "\n",
    "You have to install graphviz for system and for python. For ubuntu just run:\n",
    "\n",
    "1. `sudo apt-get install graphviz`\n",
    "2. `pip install graphviz`\n",
    "3. restart the notebook\n",
    "\n",
    "__Note:__ Installing graphviz on some OS (esp. Windows) may be tricky. However, you can ignore this part alltogether and use the standart vizualization."
   ]
  },
  {
   "cell_type": "code",
   "execution_count": 4,
   "metadata": {
    "ExecuteTime": {
     "end_time": "2018-04-02T13:44:37.797182Z",
     "start_time": "2018-04-02T13:44:37.794073Z"
    }
   },
   "outputs": [
    {
     "name": "stdout",
     "output_type": "stream",
     "text": [
      "Graphviz available: True\n"
     ]
    }
   ],
   "source": [
    "from mdp import has_graphviz\n",
    "from IPython.display import display\n",
    "print(\"Graphviz available:\", has_graphviz)"
   ]
  },
  {
   "cell_type": "code",
   "execution_count": 5,
   "metadata": {
    "ExecuteTime": {
     "end_time": "2018-04-02T13:44:38.715883Z",
     "start_time": "2018-04-02T13:44:38.648684Z"
    }
   },
   "outputs": [
    {
     "data": {
      "image/svg+xml": [
       "<?xml version=\"1.0\" encoding=\"UTF-8\" standalone=\"no\"?>\n",
       "<!DOCTYPE svg PUBLIC \"-//W3C//DTD SVG 1.1//EN\"\n",
       " \"http://www.w3.org/Graphics/SVG/1.1/DTD/svg11.dtd\">\n",
       "<!-- Generated by graphviz version 2.40.1 (20161225.0304)\n",
       " -->\n",
       "<!-- Title: MDP Pages: 1 -->\n",
       "<svg width=\"720pt\" height=\"195pt\"\n",
       " viewBox=\"0.00 0.00 720.00 194.87\" xmlns=\"http://www.w3.org/2000/svg\" xmlns:xlink=\"http://www.w3.org/1999/xlink\">\n",
       "<g id=\"graph0\" class=\"graph\" transform=\"scale(.705 .705) rotate(0) translate(4 272.3984)\">\n",
       "<title>MDP</title>\n",
       "<polygon fill=\"#ffffff\" stroke=\"transparent\" points=\"-4,4 -4,-272.3984 1017.2332,-272.3984 1017.2332,4 -4,4\"/>\n",
       "<!-- s0 -->\n",
       "<g id=\"node1\" class=\"node\">\n",
       "<title>s0</title>\n",
       "<ellipse fill=\"#85ff75\" stroke=\"#85ff75\" cx=\"40\" cy=\"-100\" rx=\"36\" ry=\"36\"/>\n",
       "<ellipse fill=\"none\" stroke=\"#85ff75\" cx=\"40\" cy=\"-100\" rx=\"40\" ry=\"40\"/>\n",
       "<text text-anchor=\"middle\" x=\"40\" y=\"-94.5988\" font-family=\"Arial\" font-size=\"24.00\" fill=\"#000000\">s0</text>\n",
       "</g>\n",
       "<!-- s0&#45;a0 -->\n",
       "<g id=\"node2\" class=\"node\">\n",
       "<title>s0&#45;a0</title>\n",
       "<ellipse fill=\"#ffb6c1\" stroke=\"#ffb6c1\" cx=\"192.4191\" cy=\"-143\" rx=\"27.0882\" ry=\"27.0882\"/>\n",
       "<text text-anchor=\"middle\" x=\"192.4191\" y=\"-138.499\" font-family=\"Arial\" font-size=\"20.00\" fill=\"#000000\">a0</text>\n",
       "</g>\n",
       "<!-- s0&#45;&gt;s0&#45;a0 -->\n",
       "<g id=\"edge1\" class=\"edge\">\n",
       "<title>s0&#45;&gt;s0&#45;a0</title>\n",
       "<path fill=\"none\" stroke=\"#ff0000\" stroke-width=\"2\" d=\"M79.0103,-108.866C99.4912,-113.7579 124.9294,-120.2083 147.375,-127 150.5523,-127.9614 153.8364,-129.013 157.1163,-130.1031\"/>\n",
       "<polygon fill=\"#ff0000\" stroke=\"#ff0000\" stroke-width=\"2\" points=\"156.2381,-133.502 166.8328,-133.4374 158.5102,-126.881 156.2381,-133.502\"/>\n",
       "</g>\n",
       "<!-- s0&#45;a1 -->\n",
       "<g id=\"node4\" class=\"node\">\n",
       "<title>s0&#45;a1</title>\n",
       "<ellipse fill=\"#ffb6c1\" stroke=\"#ffb6c1\" cx=\"192.4191\" cy=\"-215\" rx=\"27.0882\" ry=\"27.0882\"/>\n",
       "<text text-anchor=\"middle\" x=\"192.4191\" y=\"-210.499\" font-family=\"Arial\" font-size=\"20.00\" fill=\"#000000\">a1</text>\n",
       "</g>\n",
       "<!-- s0&#45;&gt;s0&#45;a1 -->\n",
       "<g id=\"edge4\" class=\"edge\">\n",
       "<title>s0&#45;&gt;s0&#45;a1</title>\n",
       "<path fill=\"none\" stroke=\"#ff0000\" stroke-width=\"2\" d=\"M67.431,-129.4724C76.7248,-138.7569 87.4356,-148.7368 98,-157 117.2729,-172.0748 140.7013,-186.487 159.3988,-197.174\"/>\n",
       "<polygon fill=\"#ff0000\" stroke=\"#ff0000\" stroke-width=\"2\" points=\"157.7279,-200.2498 168.1586,-202.1077 161.1631,-194.1507 157.7279,-200.2498\"/>\n",
       "</g>\n",
       "<!-- s0&#45;a0&#45;&gt;s0 -->\n",
       "<g id=\"edge2\" class=\"edge\">\n",
       "<title>s0&#45;a0&#45;&gt;s0</title>\n",
       "<path fill=\"none\" stroke=\"#0000ff\" stroke-dasharray=\"5,2\" d=\"M165.6234,-139.0306C146.5334,-135.8596 120.3948,-130.8162 98,-124 94.1801,-122.8374 90.2655,-121.5159 86.3616,-120.1048\"/>\n",
       "<polygon fill=\"#0000ff\" stroke=\"#0000ff\" points=\"87.3307,-116.7291 76.7395,-116.4524 84.8465,-123.2734 87.3307,-116.7291\"/>\n",
       "<text text-anchor=\"middle\" x=\"122.6875\" y=\"-140.5984\" font-family=\"Arial\" font-size=\"16.00\" fill=\"#000000\">p = 0.5</text>\n",
       "</g>\n",
       "<!-- s2 -->\n",
       "<g id=\"node3\" class=\"node\">\n",
       "<title>s2</title>\n",
       "<ellipse fill=\"#85ff75\" stroke=\"#85ff75\" cx=\"430.6506\" cy=\"-156\" rx=\"36\" ry=\"36\"/>\n",
       "<ellipse fill=\"none\" stroke=\"#85ff75\" cx=\"430.6506\" cy=\"-156\" rx=\"40\" ry=\"40\"/>\n",
       "<text text-anchor=\"middle\" x=\"430.6506\" y=\"-150.5988\" font-family=\"Arial\" font-size=\"24.00\" fill=\"#000000\">s2</text>\n",
       "</g>\n",
       "<!-- s0&#45;a0&#45;&gt;s2 -->\n",
       "<g id=\"edge3\" class=\"edge\">\n",
       "<title>s0&#45;a0&#45;&gt;s2</title>\n",
       "<path fill=\"none\" stroke=\"#0000ff\" stroke-dasharray=\"5,2\" d=\"M219.7473,-144.4913C258.8843,-146.6269 331.5648,-150.593 380.5211,-153.2645\"/>\n",
       "<polygon fill=\"#0000ff\" stroke=\"#0000ff\" points=\"380.4113,-156.7636 390.5871,-153.8138 380.7927,-149.774 380.4113,-156.7636\"/>\n",
       "<text text-anchor=\"middle\" x=\"305.0569\" y=\"-157.5984\" font-family=\"Arial\" font-size=\"16.00\" fill=\"#000000\">p = 0.5</text>\n",
       "</g>\n",
       "<!-- s2&#45;a0 -->\n",
       "<g id=\"node8\" class=\"node\">\n",
       "<title>s2&#45;a0</title>\n",
       "<ellipse fill=\"#ffb6c1\" stroke=\"#ffb6c1\" cx=\"663.5541\" cy=\"-127\" rx=\"27.0882\" ry=\"27.0882\"/>\n",
       "<text text-anchor=\"middle\" x=\"663.5541\" y=\"-122.499\" font-family=\"Arial\" font-size=\"20.00\" fill=\"#000000\">a0</text>\n",
       "</g>\n",
       "<!-- s2&#45;&gt;s2&#45;a0 -->\n",
       "<g id=\"edge13\" class=\"edge\">\n",
       "<title>s2&#45;&gt;s2&#45;a0</title>\n",
       "<path fill=\"none\" stroke=\"#ff0000\" stroke-width=\"2\" d=\"M470.9845,-155.8604C509.2926,-155.0555 568.3261,-152.0643 618.51,-142 621.7426,-141.3517 625.0647,-140.5398 628.3694,-139.6312\"/>\n",
       "<polygon fill=\"#ff0000\" stroke=\"#ff0000\" stroke-width=\"2\" points=\"629.5651,-142.9263 638.1246,-136.6825 627.5397,-136.2257 629.5651,-142.9263\"/>\n",
       "</g>\n",
       "<!-- s2&#45;a1 -->\n",
       "<g id=\"node9\" class=\"node\">\n",
       "<title>s2&#45;a1</title>\n",
       "<ellipse fill=\"#ffb6c1\" stroke=\"#ffb6c1\" cx=\"663.5541\" cy=\"-55\" rx=\"27.0882\" ry=\"27.0882\"/>\n",
       "<text text-anchor=\"middle\" x=\"663.5541\" y=\"-50.499\" font-family=\"Arial\" font-size=\"20.00\" fill=\"#000000\">a1</text>\n",
       "</g>\n",
       "<!-- s2&#45;&gt;s2&#45;a1 -->\n",
       "<g id=\"edge16\" class=\"edge\">\n",
       "<title>s2&#45;&gt;s2&#45;a1</title>\n",
       "<path fill=\"none\" stroke=\"#ff0000\" stroke-width=\"2\" d=\"M456.5551,-125.4037C465.8341,-116.0723 476.9224,-106.5578 488.6506,-100 532.2394,-75.6274 589.2942,-64.1633 626.1851,-58.9796\"/>\n",
       "<polygon fill=\"#ff0000\" stroke=\"#ff0000\" stroke-width=\"2\" points=\"627.0312,-62.3985 636.4881,-57.6218 626.1165,-55.4585 627.0312,-62.3985\"/>\n",
       "</g>\n",
       "<!-- s0&#45;a1&#45;&gt;s2 -->\n",
       "<g id=\"edge5\" class=\"edge\">\n",
       "<title>s0&#45;a1&#45;&gt;s2</title>\n",
       "<path fill=\"none\" stroke=\"#0000ff\" stroke-dasharray=\"5,2\" d=\"M219.1452,-209.5944C254.4745,-202.2951 318.5695,-188.52 372.6506,-174 375.9584,-173.1119 379.3606,-172.1594 382.78,-171.1731\"/>\n",
       "<polygon fill=\"#0000ff\" stroke=\"#0000ff\" points=\"383.8008,-174.5211 392.398,-168.3294 381.816,-167.8084 383.8008,-174.5211\"/>\n",
       "<text text-anchor=\"middle\" x=\"305.0569\" y=\"-210.5984\" font-family=\"Arial\" font-size=\"16.00\" fill=\"#000000\">p = 1</text>\n",
       "</g>\n",
       "<!-- s1 -->\n",
       "<g id=\"node5\" class=\"node\">\n",
       "<title>s1</title>\n",
       "<ellipse fill=\"#85ff75\" stroke=\"#85ff75\" cx=\"824.8716\" cy=\"-103\" rx=\"36\" ry=\"36\"/>\n",
       "<ellipse fill=\"none\" stroke=\"#85ff75\" cx=\"824.8716\" cy=\"-103\" rx=\"40\" ry=\"40\"/>\n",
       "<text text-anchor=\"middle\" x=\"824.8716\" y=\"-97.5988\" font-family=\"Arial\" font-size=\"24.00\" fill=\"#000000\">s1</text>\n",
       "</g>\n",
       "<!-- s1&#45;a0 -->\n",
       "<g id=\"node6\" class=\"node\">\n",
       "<title>s1&#45;a0</title>\n",
       "<ellipse fill=\"#ffb6c1\" stroke=\"#ffb6c1\" cx=\"986.1891\" cy=\"-68\" rx=\"27.0882\" ry=\"27.0882\"/>\n",
       "<text text-anchor=\"middle\" x=\"986.1891\" y=\"-63.499\" font-family=\"Arial\" font-size=\"20.00\" fill=\"#000000\">a0</text>\n",
       "</g>\n",
       "<!-- s1&#45;&gt;s1&#45;a0 -->\n",
       "<g id=\"edge6\" class=\"edge\">\n",
       "<title>s1&#45;&gt;s1&#45;a0</title>\n",
       "<path fill=\"none\" stroke=\"#ff0000\" stroke-width=\"2\" d=\"M864.3343,-94.438C890.4045,-88.7818 924.3235,-81.4226 949.7535,-75.9052\"/>\n",
       "<polygon fill=\"#ff0000\" stroke=\"#ff0000\" stroke-width=\"2\" points=\"950.708,-79.2796 959.7385,-73.7388 949.2237,-72.4388 950.708,-79.2796\"/>\n",
       "</g>\n",
       "<!-- s1&#45;a1 -->\n",
       "<g id=\"node7\" class=\"node\">\n",
       "<title>s1&#45;a1</title>\n",
       "<ellipse fill=\"#ffb6c1\" stroke=\"#ffb6c1\" cx=\"986.1891\" cy=\"-149\" rx=\"27.0882\" ry=\"27.0882\"/>\n",
       "<text text-anchor=\"middle\" x=\"986.1891\" y=\"-144.499\" font-family=\"Arial\" font-size=\"20.00\" fill=\"#000000\">a1</text>\n",
       "</g>\n",
       "<!-- s1&#45;&gt;s1&#45;a1 -->\n",
       "<g id=\"edge10\" class=\"edge\">\n",
       "<title>s1&#45;&gt;s1&#45;a1</title>\n",
       "<path fill=\"none\" stroke=\"#ff0000\" stroke-width=\"2\" d=\"M864.3515,-110.4168C887.0719,-115.1182 916.0118,-121.8474 941.145,-130 944.662,-131.1408 948.2863,-132.4435 951.8796,-133.82\"/>\n",
       "<polygon fill=\"#ff0000\" stroke=\"#ff0000\" stroke-width=\"2\" points=\"950.64,-137.0939 961.2239,-137.5755 953.2504,-130.5988 950.64,-137.0939\"/>\n",
       "</g>\n",
       "<!-- s1&#45;a0&#45;&gt;s0 -->\n",
       "<g id=\"edge7\" class=\"edge\">\n",
       "<title>s1&#45;a0&#45;&gt;s0</title>\n",
       "<path fill=\"none\" stroke=\"#0000ff\" stroke-dasharray=\"5,2\" d=\"M964.1902,-52.057C934.2324,-31.9583 878.2114,0 824.8716,0 192.4191,0 192.4191,0 192.4191,0 145.4996,0 101.8067,-33.5367 73.3386,-61.7674\"/>\n",
       "<polygon fill=\"#0000ff\" stroke=\"#0000ff\" points=\"70.5753,-59.5868 66.08,-69.1807 75.577,-64.4841 70.5753,-59.5868\"/>\n",
       "<text text-anchor=\"middle\" x=\"553.5803\" y=\"-5.5984\" font-family=\"Arial\" font-size=\"16.00\" fill=\"#000000\">p = 0.7 &#160;reward =5</text>\n",
       "</g>\n",
       "<!-- s1&#45;a0&#45;&gt;s2 -->\n",
       "<g id=\"edge9\" class=\"edge\">\n",
       "<title>s1&#45;a0&#45;&gt;s2</title>\n",
       "<path fill=\"none\" stroke=\"#0000ff\" stroke-dasharray=\"5,2\" d=\"M971.2916,-90.8923C967.0824,-97.8429 962.688,-105.6012 959.145,-113 949.1248,-133.9253 960.1432,-148.683 941.145,-162 868.0363,-213.2465 593.8453,-180.1197 480.334,-163.6788\"/>\n",
       "<polygon fill=\"#0000ff\" stroke=\"#0000ff\" points=\"480.5858,-160.1784 470.1839,-162.1909 479.5704,-167.1044 480.5858,-160.1784\"/>\n",
       "<text text-anchor=\"middle\" x=\"737.7349\" y=\"-194.5984\" font-family=\"Arial\" font-size=\"16.00\" fill=\"#000000\">p = 0.2</text>\n",
       "</g>\n",
       "<!-- s1&#45;a0&#45;&gt;s1 -->\n",
       "<g id=\"edge8\" class=\"edge\">\n",
       "<title>s1&#45;a0&#45;&gt;s1</title>\n",
       "<path fill=\"none\" stroke=\"#0000ff\" stroke-dasharray=\"5,2\" d=\"M960.417,-58.5738C939.0657,-52.243 908.2255,-46.5594 882.8716,-55.6016 875.1206,-58.3659 867.6575,-62.6598 860.8136,-67.5582\"/>\n",
       "<polygon fill=\"#0000ff\" stroke=\"#0000ff\" points=\"858.2504,-65.1174 852.5009,-74.0165 862.545,-70.6452 858.2504,-65.1174\"/>\n",
       "<text text-anchor=\"middle\" x=\"912.0083\" y=\"-60.5984\" font-family=\"Arial\" font-size=\"16.00\" fill=\"#000000\">p = 0.1</text>\n",
       "</g>\n",
       "<!-- s1&#45;a1&#45;&gt;s2 -->\n",
       "<g id=\"edge12\" class=\"edge\">\n",
       "<title>s1&#45;a1&#45;&gt;s2</title>\n",
       "<path fill=\"none\" stroke=\"#0000ff\" stroke-dasharray=\"5,2\" d=\"M970.8571,-171.5161C963.1423,-180.8819 952.9218,-190.7738 941.145,-196 757.3239,-277.5749 679.9734,-257.97 488.6506,-196 482.2396,-193.9234 475.9016,-190.888 469.9023,-187.4027\"/>\n",
       "<polygon fill=\"#0000ff\" stroke=\"#0000ff\" points=\"471.7117,-184.4059 461.3858,-182.0336 467.9785,-190.3274 471.7117,-184.4059\"/>\n",
       "<text text-anchor=\"middle\" x=\"737.7349\" y=\"-255.5984\" font-family=\"Arial\" font-size=\"16.00\" fill=\"#000000\">p = 0.05</text>\n",
       "</g>\n",
       "<!-- s1&#45;a1&#45;&gt;s1 -->\n",
       "<g id=\"edge11\" class=\"edge\">\n",
       "<title>s1&#45;a1&#45;&gt;s1</title>\n",
       "<path fill=\"none\" stroke=\"#0000ff\" stroke-dasharray=\"5,2\" d=\"M959.0847,-144.6261C938.0404,-140.8963 908.2673,-134.8856 882.8716,-127 879.0583,-125.8159 875.1484,-124.4792 871.2477,-123.0576\"/>\n",
       "<polygon fill=\"#0000ff\" stroke=\"#0000ff\" points=\"872.2215,-119.6831 861.6308,-119.3883 869.7261,-126.2233 872.2215,-119.6831\"/>\n",
       "<text text-anchor=\"middle\" x=\"912.0083\" y=\"-145.5984\" font-family=\"Arial\" font-size=\"16.00\" fill=\"#000000\">p = 0.95</text>\n",
       "</g>\n",
       "<!-- s2&#45;a0&#45;&gt;s0 -->\n",
       "<g id=\"edge14\" class=\"edge\">\n",
       "<title>s2&#45;a0&#45;&gt;s0</title>\n",
       "<path fill=\"none\" stroke=\"#0000ff\" stroke-dasharray=\"5,2\" d=\"M641.1226,-111.659C634.1787,-107.7238 626.2991,-104.031 618.51,-102 428.4761,-52.4487 191.2371,-77.4259 89.7703,-91.9891\"/>\n",
       "<polygon fill=\"#0000ff\" stroke=\"#0000ff\" points=\"89.1909,-88.5365 79.804,-93.4492 90.2057,-95.4626 89.1909,-88.5365\"/>\n",
       "<text text-anchor=\"middle\" x=\"305.0569\" y=\"-81.5984\" font-family=\"Arial\" font-size=\"16.00\" fill=\"#000000\">p = 0.4</text>\n",
       "</g>\n",
       "<!-- s2&#45;a0&#45;&gt;s1 -->\n",
       "<g id=\"edge15\" class=\"edge\">\n",
       "<title>s2&#45;a0&#45;&gt;s1</title>\n",
       "<path fill=\"none\" stroke=\"#0000ff\" stroke-dasharray=\"5,2\" d=\"M690.555,-122.9829C713.5614,-119.5602 747.2269,-114.5516 775.0975,-110.4051\"/>\n",
       "<polygon fill=\"#0000ff\" stroke=\"#0000ff\" points=\"775.6969,-113.8546 785.073,-108.921 774.6668,-106.9308 775.6969,-113.8546\"/>\n",
       "<text text-anchor=\"middle\" x=\"737.7349\" y=\"-124.5984\" font-family=\"Arial\" font-size=\"16.00\" fill=\"#000000\">p = 0.6</text>\n",
       "</g>\n",
       "<!-- s2&#45;a1&#45;&gt;s0 -->\n",
       "<g id=\"edge17\" class=\"edge\">\n",
       "<title>s2&#45;a1&#45;&gt;s0</title>\n",
       "<path fill=\"none\" stroke=\"#0000ff\" stroke-dasharray=\"5,2\" d=\"M636.5281,-52.4216C568.9934,-46.4632 387.5144,-33.4382 237.4631,-49.6016 174.3891,-56.3958 159.0838,-62.875 98,-80 94.6156,-80.9488 91.1399,-81.9854 87.6528,-83.0713\"/>\n",
       "<polygon fill=\"#0000ff\" stroke=\"#0000ff\" points=\"86.3035,-79.8289 77.8612,-86.2303 88.4528,-86.4907 86.3035,-79.8289\"/>\n",
       "<text text-anchor=\"middle\" x=\"305.0569\" y=\"-54.5984\" font-family=\"Arial\" font-size=\"16.00\" fill=\"#000000\">p = 0.3 &#160;reward =&#45;1</text>\n",
       "</g>\n",
       "<!-- s2&#45;a1&#45;&gt;s2 -->\n",
       "<g id=\"edge19\" class=\"edge\">\n",
       "<title>s2&#45;a1&#45;&gt;s2</title>\n",
       "<path fill=\"none\" stroke=\"#0000ff\" stroke-dasharray=\"5,2\" d=\"M644.9964,-74.929C637.4241,-81.9594 628.1774,-89.2808 618.51,-94 565.6462,-119.8059 543.3339,-97.9159 488.6506,-119.6016 483.1287,-121.7914 477.5527,-124.5131 472.154,-127.4756\"/>\n",
       "<polygon fill=\"#0000ff\" stroke=\"#0000ff\" points=\"470.1624,-124.585 463.2768,-132.6373 473.681,-130.6364 470.1624,-124.585\"/>\n",
       "<text text-anchor=\"middle\" x=\"553.5803\" y=\"-124.5984\" font-family=\"Arial\" font-size=\"16.00\" fill=\"#000000\">p = 0.4</text>\n",
       "</g>\n",
       "<!-- s2&#45;a1&#45;&gt;s1 -->\n",
       "<g id=\"edge18\" class=\"edge\">\n",
       "<title>s2&#45;a1&#45;&gt;s1</title>\n",
       "<path fill=\"none\" stroke=\"#0000ff\" stroke-dasharray=\"5,2\" d=\"M689.8316,-62.8189C713.2316,-69.7815 748.0616,-80.1452 776.4874,-88.6033\"/>\n",
       "<polygon fill=\"#0000ff\" stroke=\"#0000ff\" points=\"775.6628,-92.0095 786.2457,-91.5069 777.6592,-85.3002 775.6628,-92.0095\"/>\n",
       "<text text-anchor=\"middle\" x=\"737.7349\" y=\"-89.5984\" font-family=\"Arial\" font-size=\"16.00\" fill=\"#000000\">p = 0.3</text>\n",
       "</g>\n",
       "</g>\n",
       "</svg>\n"
      ],
      "text/plain": [
       "<graphviz.dot.Digraph at 0x105f3ed68>"
      ]
     },
     "metadata": {},
     "output_type": "display_data"
    }
   ],
   "source": [
    "if has_graphviz:\n",
    "    from mdp import plot_graph, plot_graph_with_state_values, \\\n",
    "        plot_graph_optimal_strategy_and_state_values\n",
    "\n",
    "    display(plot_graph(mdp))"
   ]
  },
  {
   "cell_type": "markdown",
   "metadata": {},
   "source": [
    "### Value Iteration\n",
    "\n",
    "Now let's build something to solve this MDP. The simplest algorithm so far is __V__alue __I__teration\n",
    "\n",
    "Here's the pseudo-code for VI:\n",
    "\n",
    "---\n",
    "\n",
    "`1.` Initialize $V^{(0)}(s)=0$, for all $s$\n",
    "\n",
    "`2.` For $i=0, 1, 2, \\dots$\n",
    " \n",
    "`3.` $ \\quad V_{(i+1)}(s) = \\max_a \\sum_{s'} P(s' | s,a) \\cdot [ r(s,a,s') + \\gamma V_{i}(s')]$, for all $s$\n",
    "\n",
    "---"
   ]
  },
  {
   "cell_type": "markdown",
   "metadata": {},
   "source": [
    "First, let's write a function to compute the state-action value function $Q^{\\pi}$, defined as follows\n",
    "\n",
    "$$Q_i(s, a) = \\sum_{s'} P(s' | s,a) \\cdot [ r(s,a,s') + \\gamma V_{i}(s')]$$\n"
   ]
  },
  {
   "cell_type": "code",
   "execution_count": 6,
   "metadata": {
    "ExecuteTime": {
     "end_time": "2018-04-02T13:43:17.101416Z",
     "start_time": "2018-04-02T13:43:17.095468Z"
    }
   },
   "outputs": [
    {
     "name": "stdout",
     "output_type": "stream",
     "text": [
      "Overwriting mdp_get_action_value.py\n"
     ]
    }
   ],
   "source": [
    "%%writefile mdp_get_action_value.py\n",
    "\n",
    "def get_action_value(mdp, state_values, state, action, gamma):\n",
    "    \"\"\" Computes Q(s,a) as in formula above \"\"\"\n",
    "\n",
    "    # YOUR CODE HERE\n",
    "    Q = 0\n",
    "    for next_state in mdp.get_next_states(state, action):\n",
    "        p = mdp.get_transition_prob(state, action, next_state)\n",
    "        r = mdp.get_reward(state, action, next_state)\n",
    "        next_v = gamma * state_values[next_state]\n",
    "        Q += p * (r + next_v)\n",
    "\n",
    "    return Q\n"
   ]
  },
  {
   "cell_type": "code",
   "execution_count": 7,
   "metadata": {},
   "outputs": [],
   "source": [
    "from mdp_get_action_value import get_action_value"
   ]
  },
  {
   "cell_type": "code",
   "execution_count": 8,
   "metadata": {
    "ExecuteTime": {
     "end_time": "2018-04-02T13:43:17.102247Z",
     "start_time": "2018-04-02T13:43:05.502Z"
    }
   },
   "outputs": [],
   "source": [
    "import numpy as np\n",
    "test_Vs = {s: i for i, s in enumerate(sorted(mdp.get_all_states()))}\n",
    "assert np.allclose(get_action_value(mdp, test_Vs, 's2', 'a1', 0.9), 0.69)\n",
    "assert np.allclose(get_action_value(mdp, test_Vs, 's1', 'a0', 0.9), 3.95)"
   ]
  },
  {
   "cell_type": "markdown",
   "metadata": {},
   "source": [
    "Using $Q(s,a)$ we can now define the \"next\" V(s) for value iteration.\n",
    " $$V_{(i+1)}(s) = \\max_a \\sum_{s'} P(s' | s,a) \\cdot [ r(s,a,s') + \\gamma V_{i}(s')] = \\max_a Q_i(s,a)$$"
   ]
  },
  {
   "cell_type": "code",
   "execution_count": 9,
   "metadata": {
    "ExecuteTime": {
     "end_time": "2018-04-02T13:43:17.103358Z",
     "start_time": "2018-04-02T13:43:05.506Z"
    }
   },
   "outputs": [],
   "source": [
    "def get_new_state_value(mdp, state_values, state, gamma):\n",
    "    \"\"\" Computes next V(s) as in formula above. Please do not change state_values in process. \"\"\"\n",
    "    if mdp.is_terminal(state):\n",
    "        return 0\n",
    "\n",
    "    # <YOUR CODE>\n",
    "    qvalues = []\n",
    "    actions = mdp.get_possible_actions(state)\n",
    "    \n",
    "    for action in actions:\n",
    "        qvalue = get_action_value(\n",
    "            mdp, state_values, state, action, gamma)\n",
    "        qvalues.append(qvalue)\n",
    "    \n",
    "    return max(qvalues)"
   ]
  },
  {
   "cell_type": "code",
   "execution_count": 10,
   "metadata": {
    "ExecuteTime": {
     "end_time": "2018-04-02T13:43:17.104340Z",
     "start_time": "2018-04-02T13:43:05.510Z"
    }
   },
   "outputs": [],
   "source": [
    "test_Vs_copy = dict(test_Vs)\n",
    "assert np.allclose(get_new_state_value(mdp, test_Vs, 's0', 0.9), 1.8)\n",
    "assert np.allclose(get_new_state_value(mdp, test_Vs, 's2', 0.9), 0.69)\n",
    "assert test_Vs == test_Vs_copy, \"please do not change state_values in get_new_state_value\""
   ]
  },
  {
   "cell_type": "markdown",
   "metadata": {},
   "source": [
    "Finally, let's combine everything we wrote into a working value iteration algo."
   ]
  },
  {
   "cell_type": "code",
   "execution_count": 11,
   "metadata": {
    "ExecuteTime": {
     "end_time": "2018-04-02T13:44:09.793405Z",
     "start_time": "2018-04-02T13:44:09.770623Z"
    }
   },
   "outputs": [
    {
     "data": {
      "image/svg+xml": [
       "<?xml version=\"1.0\" encoding=\"UTF-8\" standalone=\"no\"?>\n",
       "<!DOCTYPE svg PUBLIC \"-//W3C//DTD SVG 1.1//EN\"\n",
       " \"http://www.w3.org/Graphics/SVG/1.1/DTD/svg11.dtd\">\n",
       "<!-- Generated by graphviz version 2.40.1 (20161225.0304)\n",
       " -->\n",
       "<!-- Title: MDP Pages: 1 -->\n",
       "<svg width=\"720pt\" height=\"180pt\"\n",
       " viewBox=\"0.00 0.00 720.00 180.03\" xmlns=\"http://www.w3.org/2000/svg\" xmlns:xlink=\"http://www.w3.org/1999/xlink\">\n",
       "<g id=\"graph0\" class=\"graph\" transform=\"scale(.6633 .6633) rotate(0) translate(4 267.3984)\">\n",
       "<title>MDP</title>\n",
       "<polygon fill=\"#ffffff\" stroke=\"transparent\" points=\"-4,4 -4,-267.3984 1081.4132,-267.3984 1081.4132,4 -4,4\"/>\n",
       "<!-- s0 -->\n",
       "<g id=\"node1\" class=\"node\">\n",
       "<title>s0</title>\n",
       "<ellipse fill=\"#85ff75\" stroke=\"#85ff75\" cx=\"50.6967\" cy=\"-101\" rx=\"46.8785\" ry=\"46.8785\"/>\n",
       "<ellipse fill=\"none\" stroke=\"#85ff75\" cx=\"50.6967\" cy=\"-101\" rx=\"50.8941\" ry=\"50.8941\"/>\n",
       "<text text-anchor=\"middle\" x=\"50.6967\" y=\"-109.3977\" font-family=\"Arial\" font-size=\"24.00\" fill=\"#000000\">s0</text>\n",
       "<text text-anchor=\"middle\" x=\"50.6967\" y=\"-81.8\" font-family=\"Arial\" font-size=\"24.00\" fill=\"#000000\">V =0</text>\n",
       "</g>\n",
       "<!-- s0&#45;a0 -->\n",
       "<g id=\"node2\" class=\"node\">\n",
       "<title>s0&#45;a0</title>\n",
       "<ellipse fill=\"#ffb6c1\" stroke=\"#ffb6c1\" cx=\"213.8124\" cy=\"-144\" rx=\"27.0882\" ry=\"27.0882\"/>\n",
       "<text text-anchor=\"middle\" x=\"213.8124\" y=\"-139.499\" font-family=\"Arial\" font-size=\"20.00\" fill=\"#000000\">a0</text>\n",
       "</g>\n",
       "<!-- s0&#45;&gt;s0&#45;a0 -->\n",
       "<g id=\"edge1\" class=\"edge\">\n",
       "<title>s0&#45;&gt;s0&#45;a0</title>\n",
       "<path fill=\"none\" stroke=\"#ff0000\" stroke-width=\"2\" d=\"M100.4315,-111.0252C121.6353,-115.6463 146.5583,-121.5398 168.7683,-128 171.9558,-128.9271 175.2469,-129.9551 178.5314,-131.0299\"/>\n",
       "<polygon fill=\"#ff0000\" stroke=\"#ff0000\" stroke-width=\"2\" points=\"177.6605,-134.4306 188.255,-134.3402 179.9165,-127.8041 177.6605,-134.4306\"/>\n",
       "</g>\n",
       "<!-- s0&#45;a1 -->\n",
       "<g id=\"node4\" class=\"node\">\n",
       "<title>s0&#45;a1</title>\n",
       "<ellipse fill=\"#ffb6c1\" stroke=\"#ffb6c1\" cx=\"213.8124\" cy=\"-216\" rx=\"27.0882\" ry=\"27.0882\"/>\n",
       "<text text-anchor=\"middle\" x=\"213.8124\" y=\"-211.499\" font-family=\"Arial\" font-size=\"20.00\" fill=\"#000000\">a1</text>\n",
       "</g>\n",
       "<!-- s0&#45;&gt;s0&#45;a1 -->\n",
       "<g id=\"edge4\" class=\"edge\">\n",
       "<title>s0&#45;&gt;s0&#45;a1</title>\n",
       "<path fill=\"none\" stroke=\"#ff0000\" stroke-width=\"2\" d=\"M88.7098,-134.9253C98.4692,-143.1197 109.1192,-151.6318 119.3933,-159 139.0936,-173.1282 162.4023,-187.2238 180.9316,-197.8632\"/>\n",
       "<polygon fill=\"#ff0000\" stroke=\"#ff0000\" stroke-width=\"2\" points=\"179.4497,-201.0467 189.8734,-202.9434 182.9075,-194.9604 179.4497,-201.0467\"/>\n",
       "</g>\n",
       "<!-- s0&#45;a0&#45;&gt;s0 -->\n",
       "<g id=\"edge2\" class=\"edge\">\n",
       "<title>s0&#45;a0&#45;&gt;s0</title>\n",
       "<path fill=\"none\" stroke=\"#0000ff\" stroke-dasharray=\"5,2\" d=\"M186.7203,-139.569C167.7194,-136.2136 141.8096,-131.1398 119.3933,-125 115.6618,-123.9779 111.8399,-122.8569 108.0028,-121.6753\"/>\n",
       "<polygon fill=\"#0000ff\" stroke=\"#0000ff\" points=\"109.0665,-118.341 98.4758,-118.635 106.9384,-125.0096 109.0665,-118.341\"/>\n",
       "<text text-anchor=\"middle\" x=\"144.0808\" y=\"-142.5984\" font-family=\"Arial\" font-size=\"16.00\" fill=\"#000000\">p = 0.5</text>\n",
       "</g>\n",
       "<!-- s2 -->\n",
       "<g id=\"node3\" class=\"node\">\n",
       "<title>s2</title>\n",
       "<ellipse fill=\"#85ff75\" stroke=\"#85ff75\" cx=\"462.7407\" cy=\"-168\" rx=\"46.8785\" ry=\"46.8785\"/>\n",
       "<ellipse fill=\"none\" stroke=\"#85ff75\" cx=\"462.7407\" cy=\"-168\" rx=\"50.8941\" ry=\"50.8941\"/>\n",
       "<text text-anchor=\"middle\" x=\"462.7407\" y=\"-176.3977\" font-family=\"Arial\" font-size=\"24.00\" fill=\"#000000\">s2</text>\n",
       "<text text-anchor=\"middle\" x=\"462.7407\" y=\"-148.8\" font-family=\"Arial\" font-size=\"24.00\" fill=\"#000000\">V =0</text>\n",
       "</g>\n",
       "<!-- s0&#45;a0&#45;&gt;s2 -->\n",
       "<g id=\"edge3\" class=\"edge\">\n",
       "<title>s0&#45;a0&#45;&gt;s2</title>\n",
       "<path fill=\"none\" stroke=\"#0000ff\" stroke-dasharray=\"5,2\" d=\"M240.926,-146.6141C279.3194,-150.3157 350.57,-157.1853 401.9751,-162.1414\"/>\n",
       "<polygon fill=\"#0000ff\" stroke=\"#0000ff\" points=\"401.6861,-165.6297 411.9759,-163.1056 402.358,-158.662 401.6861,-165.6297\"/>\n",
       "<text text-anchor=\"middle\" x=\"326.4502\" y=\"-166.5984\" font-family=\"Arial\" font-size=\"16.00\" fill=\"#000000\">p = 0.5</text>\n",
       "</g>\n",
       "<!-- s2&#45;a0 -->\n",
       "<g id=\"node8\" class=\"node\">\n",
       "<title>s2&#45;a0</title>\n",
       "<ellipse fill=\"#ffb6c1\" stroke=\"#ffb6c1\" cx=\"706.3408\" cy=\"-127\" rx=\"27.0882\" ry=\"27.0882\"/>\n",
       "<text text-anchor=\"middle\" x=\"706.3408\" y=\"-122.499\" font-family=\"Arial\" font-size=\"20.00\" fill=\"#000000\">a0</text>\n",
       "</g>\n",
       "<!-- s2&#45;&gt;s2&#45;a0 -->\n",
       "<g id=\"edge13\" class=\"edge\">\n",
       "<title>s2&#45;&gt;s2&#45;a0</title>\n",
       "<path fill=\"none\" stroke=\"#ff0000\" stroke-width=\"2\" d=\"M513.4649,-164.6493C553.9084,-161.2529 611.7758,-154.7664 661.2967,-143 664.5263,-142.2326 667.8464,-141.3144 671.1498,-140.3113\"/>\n",
       "<polygon fill=\"#ff0000\" stroke=\"#ff0000\" stroke-width=\"2\" points=\"672.4915,-143.5548 680.9029,-137.1128 670.3102,-136.9033 672.4915,-143.5548\"/>\n",
       "</g>\n",
       "<!-- s2&#45;a1 -->\n",
       "<g id=\"node9\" class=\"node\">\n",
       "<title>s2&#45;a1</title>\n",
       "<ellipse fill=\"#ffb6c1\" stroke=\"#ffb6c1\" cx=\"706.3408\" cy=\"-55\" rx=\"27.0882\" ry=\"27.0882\"/>\n",
       "<text text-anchor=\"middle\" x=\"706.3408\" y=\"-50.499\" font-family=\"Arial\" font-size=\"20.00\" fill=\"#000000\">a1</text>\n",
       "</g>\n",
       "<!-- s2&#45;&gt;s2&#45;a1 -->\n",
       "<g id=\"edge16\" class=\"edge\">\n",
       "<title>s2&#45;&gt;s2&#45;a1</title>\n",
       "<path fill=\"none\" stroke=\"#ff0000\" stroke-width=\"2\" d=\"M495.828,-128.9871C506.2991,-118.6265 518.5337,-108.3033 531.4373,-101 574.9594,-76.3669 632.0305,-64.5793 668.9432,-59.1884\"/>\n",
       "<polygon fill=\"#ff0000\" stroke=\"#ff0000\" stroke-width=\"2\" points=\"669.8219,-62.6007 679.2528,-57.7728 668.8696,-55.6658 669.8219,-62.6007\"/>\n",
       "</g>\n",
       "<!-- s0&#45;a1&#45;&gt;s2 -->\n",
       "<g id=\"edge5\" class=\"edge\">\n",
       "<title>s0&#45;a1&#45;&gt;s2</title>\n",
       "<path fill=\"none\" stroke=\"#0000ff\" stroke-dasharray=\"5,2\" d=\"M240.7377,-211.3635C276.0159,-205.2214 339.7757,-193.8897 394.044,-183 397.0587,-182.3951 400.1451,-181.764 403.26,-181.1177\"/>\n",
       "<polygon fill=\"#0000ff\" stroke=\"#0000ff\" points=\"404.1871,-184.4994 413.2523,-179.0155 402.7459,-177.6493 404.1871,-184.4994\"/>\n",
       "<text text-anchor=\"middle\" x=\"326.4502\" y=\"-212.5984\" font-family=\"Arial\" font-size=\"16.00\" fill=\"#000000\">p = 1</text>\n",
       "</g>\n",
       "<!-- s1 -->\n",
       "<g id=\"node5\" class=\"node\">\n",
       "<title>s1</title>\n",
       "<ellipse fill=\"#85ff75\" stroke=\"#85ff75\" cx=\"878.3549\" cy=\"-97\" rx=\"46.8785\" ry=\"46.8785\"/>\n",
       "<ellipse fill=\"none\" stroke=\"#85ff75\" cx=\"878.3549\" cy=\"-97\" rx=\"50.8941\" ry=\"50.8941\"/>\n",
       "<text text-anchor=\"middle\" x=\"878.3549\" y=\"-105.3977\" font-family=\"Arial\" font-size=\"24.00\" fill=\"#000000\">s1</text>\n",
       "<text text-anchor=\"middle\" x=\"878.3549\" y=\"-77.8\" font-family=\"Arial\" font-size=\"24.00\" fill=\"#000000\">V =0</text>\n",
       "</g>\n",
       "<!-- s1&#45;a0 -->\n",
       "<g id=\"node6\" class=\"node\">\n",
       "<title>s1&#45;a0</title>\n",
       "<ellipse fill=\"#ffb6c1\" stroke=\"#ffb6c1\" cx=\"1050.3691\" cy=\"-67\" rx=\"27.0882\" ry=\"27.0882\"/>\n",
       "<text text-anchor=\"middle\" x=\"1050.3691\" y=\"-62.499\" font-family=\"Arial\" font-size=\"20.00\" fill=\"#000000\">a0</text>\n",
       "</g>\n",
       "<!-- s1&#45;&gt;s1&#45;a0 -->\n",
       "<g id=\"edge6\" class=\"edge\">\n",
       "<title>s1&#45;&gt;s1&#45;a0</title>\n",
       "<path fill=\"none\" stroke=\"#ff0000\" stroke-width=\"2\" d=\"M928.8375,-89.7856C952.1736,-86.2618 980.2212,-81.759 1005.3251,-77 1008.1289,-76.4685 1011.0246,-75.8912 1013.9325,-75.2913\"/>\n",
       "<polygon fill=\"#ff0000\" stroke=\"#ff0000\" stroke-width=\"2\" points=\"1014.6993,-78.7065 1023.7492,-73.1975 1013.2391,-71.8605 1014.6993,-78.7065\"/>\n",
       "</g>\n",
       "<!-- s1&#45;a1 -->\n",
       "<g id=\"node7\" class=\"node\">\n",
       "<title>s1&#45;a1</title>\n",
       "<ellipse fill=\"#ffb6c1\" stroke=\"#ffb6c1\" cx=\"1050.3691\" cy=\"-149\" rx=\"27.0882\" ry=\"27.0882\"/>\n",
       "<text text-anchor=\"middle\" x=\"1050.3691\" y=\"-144.499\" font-family=\"Arial\" font-size=\"20.00\" fill=\"#000000\">a1</text>\n",
       "</g>\n",
       "<!-- s1&#45;&gt;s1&#45;a1 -->\n",
       "<g id=\"edge10\" class=\"edge\">\n",
       "<title>s1&#45;&gt;s1&#45;a1</title>\n",
       "<path fill=\"none\" stroke=\"#ff0000\" stroke-width=\"2\" d=\"M927.9862,-108.1317C951.6421,-113.885 980.1949,-121.4843 1005.3251,-130 1008.8268,-131.1866 1012.4411,-132.5196 1016.0282,-133.9147\"/>\n",
       "<polygon fill=\"#ff0000\" stroke=\"#ff0000\" stroke-width=\"2\" points=\"1014.7817,-137.1859 1025.3643,-137.695 1017.4089,-130.6976 1014.7817,-137.1859\"/>\n",
       "</g>\n",
       "<!-- s1&#45;a0&#45;&gt;s0 -->\n",
       "<g id=\"edge7\" class=\"edge\">\n",
       "<title>s1&#45;a0&#45;&gt;s0</title>\n",
       "<path fill=\"none\" stroke=\"#0000ff\" stroke-dasharray=\"5,2\" d=\"M1027.8127,-51.9639C995.9379,-32.2101 935.2418,0 878.3549,0 213.8124,0 213.8124,0 213.8124,0 167.6003,0 123.5678,-29.666 92.926,-56.8423\"/>\n",
       "<polygon fill=\"#0000ff\" stroke=\"#0000ff\" points=\"90.4608,-54.3535 85.431,-63.6783 95.178,-59.5254 90.4608,-54.3535\"/>\n",
       "<text text-anchor=\"middle\" x=\"596.367\" y=\"-5.5984\" font-family=\"Arial\" font-size=\"16.00\" fill=\"#000000\">p = 0.7 &#160;reward =5</text>\n",
       "</g>\n",
       "<!-- s1&#45;a0&#45;&gt;s2 -->\n",
       "<g id=\"edge9\" class=\"edge\">\n",
       "<title>s1&#45;a0&#45;&gt;s2</title>\n",
       "<path fill=\"none\" stroke=\"#0000ff\" stroke-dasharray=\"5,2\" d=\"M1035.7484,-89.9467C1031.4544,-97.1723 1026.9439,-105.2835 1023.3251,-113 1013.2967,-134.3836 1024.569,-149.307 1005.3251,-163 929.6421,-216.852 648.5826,-190.7028 523.476,-175.8513\"/>\n",
       "<polygon fill=\"#0000ff\" stroke=\"#0000ff\" points=\"523.6491,-172.347 513.3027,-174.6276 522.8131,-179.2969 523.6491,-172.347\"/>\n",
       "<text text-anchor=\"middle\" x=\"780.5216\" y=\"-200.5984\" font-family=\"Arial\" font-size=\"16.00\" fill=\"#000000\">p = 0.2</text>\n",
       "</g>\n",
       "<!-- s1&#45;a0&#45;&gt;s1 -->\n",
       "<g id=\"edge8\" class=\"edge\">\n",
       "<title>s1&#45;a0&#45;&gt;s1</title>\n",
       "<path fill=\"none\" stroke=\"#0000ff\" stroke-dasharray=\"5,2\" d=\"M1024.4532,-58.345C1003.2861,-52.5874 972.7735,-47.3031 947.0516,-54.6016 940.6199,-56.4265 934.1998,-59.0436 928.0103,-62.0941\"/>\n",
       "<polygon fill=\"#0000ff\" stroke=\"#0000ff\" points=\"926.307,-59.0359 919.1326,-66.8319 929.6028,-65.2115 926.307,-59.0359\"/>\n",
       "<text text-anchor=\"middle\" x=\"976.1883\" y=\"-60.5984\" font-family=\"Arial\" font-size=\"16.00\" fill=\"#000000\">p = 0.1</text>\n",
       "</g>\n",
       "<!-- s1&#45;a1&#45;&gt;s2 -->\n",
       "<g id=\"edge12\" class=\"edge\">\n",
       "<title>s1&#45;a1&#45;&gt;s2</title>\n",
       "<path fill=\"none\" stroke=\"#0000ff\" stroke-dasharray=\"5,2\" d=\"M1035.0447,-171.5332C1027.3314,-180.9024 1017.11,-190.7923 1005.3251,-196 812.6794,-281.1298 737.6491,-238.8499 531.4373,-196 527.2525,-195.1304 522.9981,-194.0157 518.7626,-192.7341\"/>\n",
       "<polygon fill=\"#0000ff\" stroke=\"#0000ff\" points=\"519.5491,-189.3073 508.9556,-189.4774 517.3429,-195.9506 519.5491,-189.3073\"/>\n",
       "<text text-anchor=\"middle\" x=\"780.5216\" y=\"-250.5984\" font-family=\"Arial\" font-size=\"16.00\" fill=\"#000000\">p = 0.05</text>\n",
       "</g>\n",
       "<!-- s1&#45;a1&#45;&gt;s1 -->\n",
       "<g id=\"edge11\" class=\"edge\">\n",
       "<title>s1&#45;a1&#45;&gt;s1</title>\n",
       "<path fill=\"none\" stroke=\"#0000ff\" stroke-dasharray=\"5,2\" d=\"M1023.2209,-144.7648C1002.153,-141.1096 972.3697,-135.1316 947.0516,-127 942.7536,-125.6196 938.359,-124.0624 933.9731,-122.4018\"/>\n",
       "<polygon fill=\"#0000ff\" stroke=\"#0000ff\" points=\"935.0124,-119.0492 924.4258,-118.6296 932.44,-125.5595 935.0124,-119.0492\"/>\n",
       "<text text-anchor=\"middle\" x=\"976.1883\" y=\"-146.5984\" font-family=\"Arial\" font-size=\"16.00\" fill=\"#000000\">p = 0.95</text>\n",
       "</g>\n",
       "<!-- s2&#45;a0&#45;&gt;s0 -->\n",
       "<g id=\"edge14\" class=\"edge\">\n",
       "<title>s2&#45;a0&#45;&gt;s0</title>\n",
       "<path fill=\"none\" stroke=\"#0000ff\" stroke-dasharray=\"5,2\" d=\"M683.3753,-112.0155C676.5445,-108.3324 668.8588,-104.902 661.2967,-103 465.1504,-53.6644 222.2148,-76.7563 111.1831,-91.7207\"/>\n",
       "<polygon fill=\"#0000ff\" stroke=\"#0000ff\" points=\"110.6058,-88.2671 101.1755,-93.096 111.5589,-95.2019 110.6058,-88.2671\"/>\n",
       "<text text-anchor=\"middle\" x=\"326.4502\" y=\"-82.5984\" font-family=\"Arial\" font-size=\"16.00\" fill=\"#000000\">p = 0.4</text>\n",
       "</g>\n",
       "<!-- s2&#45;a0&#45;&gt;s1 -->\n",
       "<g id=\"edge15\" class=\"edge\">\n",
       "<title>s2&#45;a0&#45;&gt;s1</title>\n",
       "<path fill=\"none\" stroke=\"#0000ff\" stroke-dasharray=\"5,2\" d=\"M733.218,-122.3125C755.8705,-118.3618 789.1297,-112.5613 818.0965,-107.5093\"/>\n",
       "<polygon fill=\"#0000ff\" stroke=\"#0000ff\" points=\"818.889,-110.924 828.1389,-105.7579 817.6862,-104.0281 818.889,-110.924\"/>\n",
       "<text text-anchor=\"middle\" x=\"780.5216\" y=\"-124.5984\" font-family=\"Arial\" font-size=\"16.00\" fill=\"#000000\">p = 0.6</text>\n",
       "</g>\n",
       "<!-- s2&#45;a1&#45;&gt;s0 -->\n",
       "<g id=\"edge17\" class=\"edge\">\n",
       "<title>s2&#45;a1&#45;&gt;s0</title>\n",
       "<path fill=\"none\" stroke=\"#0000ff\" stroke-dasharray=\"5,2\" d=\"M679.2472,-52.6388C609.366,-47.0149 417.399,-34.5235 258.8565,-51.6016 207.4034,-57.144 150.2974,-71.2861 108.933,-83.0252\"/>\n",
       "<polygon fill=\"#0000ff\" stroke=\"#0000ff\" points=\"107.9418,-79.6683 99.2992,-85.7965 109.8771,-86.3955 107.9418,-79.6683\"/>\n",
       "<text text-anchor=\"middle\" x=\"326.4502\" y=\"-57.5984\" font-family=\"Arial\" font-size=\"16.00\" fill=\"#000000\">p = 0.3 &#160;reward =&#45;1</text>\n",
       "</g>\n",
       "<!-- s2&#45;a1&#45;&gt;s2 -->\n",
       "<g id=\"edge19\" class=\"edge\">\n",
       "<title>s2&#45;a1&#45;&gt;s2</title>\n",
       "<path fill=\"none\" stroke=\"#0000ff\" stroke-dasharray=\"5,2\" d=\"M687.8643,-75.4479C680.302,-82.6596 671.041,-90.1673 661.2967,-95 608.5959,-121.1371 585.6357,-97.7311 531.4373,-120.6016 524.6455,-123.4675 517.8401,-127.0663 511.2947,-130.9935\"/>\n",
       "<polygon fill=\"#0000ff\" stroke=\"#0000ff\" points=\"509.1409,-128.2142 502.5561,-136.5143 512.8797,-134.1322 509.1409,-128.2142\"/>\n",
       "<text text-anchor=\"middle\" x=\"596.367\" y=\"-126.5984\" font-family=\"Arial\" font-size=\"16.00\" fill=\"#000000\">p = 0.4</text>\n",
       "</g>\n",
       "<!-- s2&#45;a1&#45;&gt;s1 -->\n",
       "<g id=\"edge18\" class=\"edge\">\n",
       "<title>s2&#45;a1&#45;&gt;s1</title>\n",
       "<path fill=\"none\" stroke=\"#0000ff\" stroke-dasharray=\"5,2\" d=\"M732.841,-61.4705C755.7865,-67.073 789.8152,-75.3816 819.1974,-82.5557\"/>\n",
       "<polygon fill=\"#0000ff\" stroke=\"#0000ff\" points=\"818.416,-85.9677 828.9609,-84.9397 820.0765,-79.1675 818.416,-85.9677\"/>\n",
       "<text text-anchor=\"middle\" x=\"780.5216\" y=\"-85.5984\" font-family=\"Arial\" font-size=\"16.00\" fill=\"#000000\">p = 0.3</text>\n",
       "</g>\n",
       "</g>\n",
       "</svg>\n"
      ],
      "text/plain": [
       "<graphviz.dot.Digraph at 0x10a62b4a8>"
      ]
     },
     "metadata": {},
     "output_type": "display_data"
    },
    {
     "name": "stdout",
     "output_type": "stream",
     "text": [
      "iter    0   |   diff: 3.50000   |   V(s0) = 0.000   V(s1) = 0.000   V(s2) = 0.000\n",
      "\n",
      "iter    1   |   diff: 1.89000   |   V(s0) = 0.000   V(s1) = 3.500   V(s2) = 0.000\n",
      "\n",
      "iter    2   |   diff: 1.70100   |   V(s0) = 0.000   V(s1) = 3.815   V(s2) = 1.890\n",
      "\n",
      "iter    3   |   diff: 1.13542   |   V(s0) = 1.701   V(s1) = 4.184   V(s2) = 2.060\n",
      "\n",
      "iter    4   |   diff: 0.73024   |   V(s0) = 1.854   V(s1) = 5.319   V(s2) = 2.871\n",
      "\n",
      "iter    5   |   diff: 0.61135   |   V(s0) = 2.584   V(s1) = 5.664   V(s2) = 3.540\n",
      "\n",
      "iter    6   |   diff: 0.54664   |   V(s0) = 3.186   V(s1) = 6.275   V(s2) = 3.989\n",
      "\n",
      "iter    7   |   diff: 0.49198   |   V(s0) = 3.590   V(s1) = 6.790   V(s2) = 4.535\n",
      "\n",
      "iter    8   |   diff: 0.42210   |   V(s0) = 4.082   V(s1) = 7.189   V(s2) = 4.959\n",
      "\n",
      "iter    9   |   diff: 0.36513   |   V(s0) = 4.463   V(s1) = 7.611   V(s2) = 5.352\n",
      "\n",
      "iter   10   |   diff: 0.32862   |   V(s0) = 4.816   V(s1) = 7.960   V(s2) = 5.717\n",
      "\n",
      "iter   11   |   diff: 0.29262   |   V(s0) = 5.145   V(s1) = 8.280   V(s2) = 6.032\n",
      "\n",
      "iter   12   |   diff: 0.26189   |   V(s0) = 5.429   V(s1) = 8.572   V(s2) = 6.323\n",
      "\n",
      "iter   13   |   diff: 0.23503   |   V(s0) = 5.691   V(s1) = 8.830   V(s2) = 6.584\n",
      "\n",
      "iter   14   |   diff: 0.21124   |   V(s0) = 5.925   V(s1) = 9.065   V(s2) = 6.817\n",
      "\n",
      "iter   15   |   diff: 0.19012   |   V(s0) = 6.135   V(s1) = 9.276   V(s2) = 7.028\n",
      "\n",
      "iter   16   |   diff: 0.17091   |   V(s0) = 6.325   V(s1) = 9.465   V(s2) = 7.218\n",
      "\n",
      "iter   17   |   diff: 0.15366   |   V(s0) = 6.496   V(s1) = 9.636   V(s2) = 7.388\n",
      "\n",
      "iter   18   |   diff: 0.13830   |   V(s0) = 6.649   V(s1) = 9.790   V(s2) = 7.542\n",
      "\n",
      "iter   19   |   diff: 0.12445   |   V(s0) = 6.788   V(s1) = 9.928   V(s2) = 7.680\n",
      "\n",
      "iter   20   |   diff: 0.11200   |   V(s0) = 6.912   V(s1) = 10.052   V(s2) = 7.805\n",
      "\n",
      "iter   21   |   diff: 0.10079   |   V(s0) = 7.024   V(s1) = 10.164   V(s2) = 7.917\n",
      "\n",
      "iter   22   |   diff: 0.09071   |   V(s0) = 7.125   V(s1) = 10.265   V(s2) = 8.017\n",
      "\n",
      "iter   23   |   diff: 0.08164   |   V(s0) = 7.216   V(s1) = 10.356   V(s2) = 8.108\n",
      "\n",
      "iter   24   |   diff: 0.07347   |   V(s0) = 7.297   V(s1) = 10.437   V(s2) = 8.190\n",
      "\n",
      "iter   25   |   diff: 0.06612   |   V(s0) = 7.371   V(s1) = 10.511   V(s2) = 8.263\n",
      "\n",
      "iter   26   |   diff: 0.05951   |   V(s0) = 7.437   V(s1) = 10.577   V(s2) = 8.329\n",
      "\n",
      "iter   27   |   diff: 0.05356   |   V(s0) = 7.496   V(s1) = 10.636   V(s2) = 8.389\n",
      "\n",
      "iter   28   |   diff: 0.04820   |   V(s0) = 7.550   V(s1) = 10.690   V(s2) = 8.442\n",
      "\n",
      "iter   29   |   diff: 0.04338   |   V(s0) = 7.598   V(s1) = 10.738   V(s2) = 8.491\n",
      "\n",
      "iter   30   |   diff: 0.03904   |   V(s0) = 7.641   V(s1) = 10.782   V(s2) = 8.534\n",
      "\n",
      "iter   31   |   diff: 0.03514   |   V(s0) = 7.681   V(s1) = 10.821   V(s2) = 8.573\n",
      "\n",
      "iter   32   |   diff: 0.03163   |   V(s0) = 7.716   V(s1) = 10.856   V(s2) = 8.608\n",
      "\n",
      "iter   33   |   diff: 0.02846   |   V(s0) = 7.747   V(s1) = 10.887   V(s2) = 8.640\n",
      "\n",
      "iter   34   |   diff: 0.02562   |   V(s0) = 7.776   V(s1) = 10.916   V(s2) = 8.668\n",
      "\n",
      "iter   35   |   diff: 0.02306   |   V(s0) = 7.801   V(s1) = 10.941   V(s2) = 8.694\n",
      "\n",
      "iter   36   |   diff: 0.02075   |   V(s0) = 7.824   V(s1) = 10.964   V(s2) = 8.717\n",
      "\n",
      "iter   37   |   diff: 0.01867   |   V(s0) = 7.845   V(s1) = 10.985   V(s2) = 8.738\n",
      "\n",
      "iter   38   |   diff: 0.01681   |   V(s0) = 7.864   V(s1) = 11.004   V(s2) = 8.756\n",
      "\n",
      "iter   39   |   diff: 0.01513   |   V(s0) = 7.881   V(s1) = 11.021   V(s2) = 8.773\n",
      "\n",
      "iter   40   |   diff: 0.01361   |   V(s0) = 7.896   V(s1) = 11.036   V(s2) = 8.788\n",
      "\n",
      "iter   41   |   diff: 0.01225   |   V(s0) = 7.909   V(s1) = 11.049   V(s2) = 8.802\n",
      "\n",
      "iter   42   |   diff: 0.01103   |   V(s0) = 7.922   V(s1) = 11.062   V(s2) = 8.814\n",
      "\n",
      "iter   43   |   diff: 0.00992   |   V(s0) = 7.933   V(s1) = 11.073   V(s2) = 8.825\n",
      "\n",
      "iter   44   |   diff: 0.00893   |   V(s0) = 7.943   V(s1) = 11.083   V(s2) = 8.835\n",
      "\n",
      "iter   45   |   diff: 0.00804   |   V(s0) = 7.952   V(s1) = 11.092   V(s2) = 8.844\n",
      "\n",
      "iter   46   |   diff: 0.00724   |   V(s0) = 7.960   V(s1) = 11.100   V(s2) = 8.852\n",
      "\n",
      "iter   47   |   diff: 0.00651   |   V(s0) = 7.967   V(s1) = 11.107   V(s2) = 8.859\n",
      "\n",
      "iter   48   |   diff: 0.00586   |   V(s0) = 7.973   V(s1) = 11.113   V(s2) = 8.866\n",
      "\n",
      "iter   49   |   diff: 0.00527   |   V(s0) = 7.979   V(s1) = 11.119   V(s2) = 8.872\n",
      "\n",
      "iter   50   |   diff: 0.00475   |   V(s0) = 7.984   V(s1) = 11.125   V(s2) = 8.877\n",
      "\n",
      "iter   51   |   diff: 0.00427   |   V(s0) = 7.989   V(s1) = 11.129   V(s2) = 8.882\n",
      "\n",
      "iter   52   |   diff: 0.00384   |   V(s0) = 7.993   V(s1) = 11.134   V(s2) = 8.886\n",
      "\n",
      "iter   53   |   diff: 0.00346   |   V(s0) = 7.997   V(s1) = 11.137   V(s2) = 8.890\n",
      "\n",
      "iter   54   |   diff: 0.00311   |   V(s0) = 8.001   V(s1) = 11.141   V(s2) = 8.893\n",
      "\n",
      "iter   55   |   diff: 0.00280   |   V(s0) = 8.004   V(s1) = 11.144   V(s2) = 8.896\n",
      "\n",
      "iter   56   |   diff: 0.00252   |   V(s0) = 8.007   V(s1) = 11.147   V(s2) = 8.899\n",
      "\n",
      "iter   57   |   diff: 0.00227   |   V(s0) = 8.009   V(s1) = 11.149   V(s2) = 8.902\n",
      "\n",
      "iter   58   |   diff: 0.00204   |   V(s0) = 8.011   V(s1) = 11.152   V(s2) = 8.904\n",
      "\n",
      "iter   59   |   diff: 0.00184   |   V(s0) = 8.014   V(s1) = 11.154   V(s2) = 8.906\n",
      "\n",
      "iter   60   |   diff: 0.00166   |   V(s0) = 8.015   V(s1) = 11.155   V(s2) = 8.908\n",
      "\n",
      "iter   61   |   diff: 0.00149   |   V(s0) = 8.017   V(s1) = 11.157   V(s2) = 8.909\n",
      "\n",
      "iter   62   |   diff: 0.00134   |   V(s0) = 8.019   V(s1) = 11.159   V(s2) = 8.911\n",
      "\n",
      "iter   63   |   diff: 0.00121   |   V(s0) = 8.020   V(s1) = 11.160   V(s2) = 8.912\n",
      "\n",
      "iter   64   |   diff: 0.00109   |   V(s0) = 8.021   V(s1) = 11.161   V(s2) = 8.913\n",
      "\n",
      "iter   65   |   diff: 0.00098   |   V(s0) = 8.022   V(s1) = 11.162   V(s2) = 8.915\n",
      "\n",
      "Terminated\n"
     ]
    }
   ],
   "source": [
    "# parameters\n",
    "gamma = 0.9            # discount for MDP\n",
    "num_iter = 100         # maximum iterations, excluding initialization\n",
    "# stop VI if new values are this close to old values (or closer)\n",
    "min_difference = 0.001\n",
    "\n",
    "# initialize V(s)\n",
    "state_values = {s: 0 for s in mdp.get_all_states()}\n",
    "\n",
    "if has_graphviz:\n",
    "    display(plot_graph_with_state_values(mdp, state_values))\n",
    "\n",
    "for i in range(num_iter):\n",
    "\n",
    "    # Compute new state values using the functions you defined above.\n",
    "    # It must be a dict {state : float V_new(state)}\n",
    "#     new_state_values = <YOUR CODE HERE >\n",
    "    new_state_values = {\n",
    "        state: get_new_state_value(mdp, state_values, state, gamma) \n",
    "        for state in mdp.get_all_states()} \n",
    "\n",
    "    assert isinstance(new_state_values, dict)\n",
    "\n",
    "    # Compute difference\n",
    "    diff = max(\n",
    "        abs(new_state_values[s] - state_values[s])\n",
    "        for s in mdp.get_all_states())\n",
    "    print(\"iter %4i   |   diff: %6.5f   |   \" % (i, diff), end=\"\")\n",
    "    print('   '.join(\n",
    "        \"V(%s) = %.3f\" % (s, v)\n",
    "        for s, v in state_values.items()), end='\\n\\n')\n",
    "    state_values = new_state_values\n",
    "\n",
    "    if diff < min_difference:\n",
    "        print(\"Terminated\")\n",
    "        break"
   ]
  },
  {
   "cell_type": "code",
   "execution_count": 12,
   "metadata": {},
   "outputs": [
    {
     "data": {
      "image/svg+xml": [
       "<?xml version=\"1.0\" encoding=\"UTF-8\" standalone=\"no\"?>\n",
       "<!DOCTYPE svg PUBLIC \"-//W3C//DTD SVG 1.1//EN\"\n",
       " \"http://www.w3.org/Graphics/SVG/1.1/DTD/svg11.dtd\">\n",
       "<!-- Generated by graphviz version 2.40.1 (20161225.0304)\n",
       " -->\n",
       "<!-- Title: MDP Pages: 1 -->\n",
       "<svg width=\"720pt\" height=\"170pt\"\n",
       " viewBox=\"0.00 0.00 720.00 169.58\" xmlns=\"http://www.w3.org/2000/svg\" xmlns:xlink=\"http://www.w3.org/1999/xlink\">\n",
       "<g id=\"graph0\" class=\"graph\" transform=\"scale(.588 .588) rotate(0) translate(4 284.3984)\">\n",
       "<title>MDP</title>\n",
       "<polygon fill=\"#ffffff\" stroke=\"transparent\" points=\"-4,4 -4,-284.3984 1220.4425,-284.3984 1220.4425,4 -4,4\"/>\n",
       "<!-- s0 -->\n",
       "<g id=\"node1\" class=\"node\">\n",
       "<title>s0</title>\n",
       "<ellipse fill=\"#85ff75\" stroke=\"#85ff75\" cx=\"74.2881\" cy=\"-112\" rx=\"70.0881\" ry=\"70.0881\"/>\n",
       "<ellipse fill=\"none\" stroke=\"#85ff75\" cx=\"74.2881\" cy=\"-112\" rx=\"74.0767\" ry=\"74.0767\"/>\n",
       "<text text-anchor=\"middle\" x=\"74.2881\" y=\"-120.3977\" font-family=\"Arial\" font-size=\"24.00\" fill=\"#000000\">s0</text>\n",
       "<text text-anchor=\"middle\" x=\"74.2881\" y=\"-92.8\" font-family=\"Arial\" font-size=\"24.00\" fill=\"#000000\">V =8.02</text>\n",
       "</g>\n",
       "<!-- s0&#45;a0 -->\n",
       "<g id=\"node2\" class=\"node\">\n",
       "<title>s0&#45;a0</title>\n",
       "<ellipse fill=\"#ffb6c1\" stroke=\"#ffb6c1\" cx=\"260.9952\" cy=\"-155\" rx=\"27.0882\" ry=\"27.0882\"/>\n",
       "<text text-anchor=\"middle\" x=\"260.9952\" y=\"-150.499\" font-family=\"Arial\" font-size=\"20.00\" fill=\"#000000\">a0</text>\n",
       "</g>\n",
       "<!-- s0&#45;&gt;s0&#45;a0 -->\n",
       "<g id=\"edge1\" class=\"edge\">\n",
       "<title>s0&#45;&gt;s0&#45;a0</title>\n",
       "<path fill=\"none\" stroke=\"#ff0000\" stroke-width=\"2\" d=\"M147.9368,-123.827C169.9716,-127.9577 194.0825,-133.0695 215.9511,-139 219.155,-139.8688 222.4573,-140.8568 225.7491,-141.9054\"/>\n",
       "<polygon fill=\"#ff0000\" stroke=\"#ff0000\" stroke-width=\"2\" points=\"224.8902,-145.309 235.4842,-145.1749 227.1189,-138.6733 224.8902,-145.309\"/>\n",
       "</g>\n",
       "<!-- s0&#45;a1 -->\n",
       "<g id=\"node4\" class=\"node\">\n",
       "<title>s0&#45;a1</title>\n",
       "<ellipse fill=\"#ffb6c1\" stroke=\"#ffb6c1\" cx=\"260.9952\" cy=\"-227\" rx=\"27.0882\" ry=\"27.0882\"/>\n",
       "<text text-anchor=\"middle\" x=\"260.9952\" y=\"-222.499\" font-family=\"Arial\" font-size=\"20.00\" fill=\"#000000\">a1</text>\n",
       "</g>\n",
       "<!-- s0&#45;&gt;s0&#45;a1 -->\n",
       "<g id=\"edge4\" class=\"edge\">\n",
       "<title>s0&#45;&gt;s0&#45;a1</title>\n",
       "<path fill=\"none\" stroke=\"#ff0000\" stroke-width=\"2\" d=\"M137.7591,-151.0942C168.4532,-169.9998 203.9653,-191.8731 228.9606,-207.2686\"/>\n",
       "<polygon fill=\"#ff0000\" stroke=\"#ff0000\" stroke-width=\"2\" points=\"227.3151,-210.3657 237.6651,-212.6301 230.9862,-204.4056 227.3151,-210.3657\"/>\n",
       "</g>\n",
       "<!-- s0&#45;a0&#45;&gt;s0 -->\n",
       "<g id=\"edge2\" class=\"edge\">\n",
       "<title>s0&#45;a0&#45;&gt;s0</title>\n",
       "<path fill=\"none\" stroke=\"#0000ff\" stroke-dasharray=\"5,2\" d=\"M234.0485,-149.9922C215.1142,-146.3723 189.2244,-141.2194 166.5761,-136 163.1657,-135.214 159.6891,-134.3942 156.1806,-133.5515\"/>\n",
       "<polygon fill=\"#0000ff\" stroke=\"#0000ff\" points=\"156.7817,-130.0955 146.237,-131.125 155.1221,-136.896 156.7817,-130.0955\"/>\n",
       "<text text-anchor=\"middle\" x=\"191.2636\" y=\"-151.5984\" font-family=\"Arial\" font-size=\"16.00\" fill=\"#000000\">p = 0.5</text>\n",
       "</g>\n",
       "<!-- s2 -->\n",
       "<g id=\"node3\" class=\"node\">\n",
       "<title>s2</title>\n",
       "<ellipse fill=\"#85ff75\" stroke=\"#85ff75\" cx=\"533.5149\" cy=\"-202\" rx=\"70.0881\" ry=\"70.0881\"/>\n",
       "<ellipse fill=\"none\" stroke=\"#85ff75\" cx=\"533.5149\" cy=\"-202\" rx=\"74.0767\" ry=\"74.0767\"/>\n",
       "<text text-anchor=\"middle\" x=\"533.5149\" y=\"-210.3977\" font-family=\"Arial\" font-size=\"24.00\" fill=\"#000000\">s2</text>\n",
       "<text text-anchor=\"middle\" x=\"533.5149\" y=\"-182.8\" font-family=\"Arial\" font-size=\"24.00\" fill=\"#000000\">V =8.91</text>\n",
       "</g>\n",
       "<!-- s0&#45;a0&#45;&gt;s2 -->\n",
       "<g id=\"edge3\" class=\"edge\">\n",
       "<title>s0&#45;a0&#45;&gt;s2</title>\n",
       "<path fill=\"none\" stroke=\"#0000ff\" stroke-dasharray=\"5,2\" d=\"M288.1218,-159.6784C325.5106,-166.1266 394.5363,-178.0311 449.8784,-187.5757\"/>\n",
       "<polygon fill=\"#0000ff\" stroke=\"#0000ff\" points=\"449.5926,-191.078 460.042,-189.3285 450.7824,-184.1798 449.5926,-191.078\"/>\n",
       "<text text-anchor=\"middle\" x=\"373.633\" y=\"-190.5984\" font-family=\"Arial\" font-size=\"16.00\" fill=\"#000000\">p = 0.5</text>\n",
       "</g>\n",
       "<!-- s2&#45;a0 -->\n",
       "<g id=\"node8\" class=\"node\">\n",
       "<title>s2&#45;a0</title>\n",
       "<ellipse fill=\"#ffb6c1\" stroke=\"#ffb6c1\" cx=\"800.7064\" cy=\"-147\" rx=\"27.0882\" ry=\"27.0882\"/>\n",
       "<text text-anchor=\"middle\" x=\"800.7064\" y=\"-142.499\" font-family=\"Arial\" font-size=\"20.00\" fill=\"#000000\">a0</text>\n",
       "</g>\n",
       "<!-- s2&#45;&gt;s2&#45;a0 -->\n",
       "<g id=\"edge13\" class=\"edge\">\n",
       "<title>s2&#45;&gt;s2&#45;a0</title>\n",
       "<path fill=\"none\" stroke=\"#ff0000\" stroke-width=\"2\" d=\"M606.7227,-188.3394C650.1181,-180.0328 706.1392,-168.9458 755.6623,-158 758.4625,-157.3811 761.3557,-156.7214 764.2617,-156.0443\"/>\n",
       "<polygon fill=\"#ff0000\" stroke=\"#ff0000\" stroke-width=\"2\" points=\"765.1571,-159.429 774.0751,-153.7089 763.5364,-152.6192 765.1571,-159.429\"/>\n",
       "</g>\n",
       "<!-- s2&#45;a1 -->\n",
       "<g id=\"node9\" class=\"node\">\n",
       "<title>s2&#45;a1</title>\n",
       "<ellipse fill=\"#ffb6c1\" stroke=\"#ffb6c1\" cx=\"800.7064\" cy=\"-75\" rx=\"27.0882\" ry=\"27.0882\"/>\n",
       "<text text-anchor=\"middle\" x=\"800.7064\" y=\"-70.499\" font-family=\"Arial\" font-size=\"20.00\" fill=\"#000000\">a1</text>\n",
       "</g>\n",
       "<!-- s2&#45;&gt;s2&#45;a1 -->\n",
       "<g id=\"edge16\" class=\"edge\">\n",
       "<title>s2&#45;&gt;s2&#45;a1</title>\n",
       "<path fill=\"none\" stroke=\"#ff0000\" stroke-width=\"2\" d=\"M582.7364,-145.7841C595.681,-133.773 610.3755,-122.2388 625.8029,-114 669.5131,-90.6572 726.5382,-81.264 763.3894,-77.4983\"/>\n",
       "<polygon fill=\"#ff0000\" stroke=\"#ff0000\" stroke-width=\"2\" points=\"764.0482,-80.9522 773.6804,-76.5397 763.3989,-73.9824 764.0482,-80.9522\"/>\n",
       "</g>\n",
       "<!-- s0&#45;a1&#45;&gt;s2 -->\n",
       "<g id=\"edge5\" class=\"edge\">\n",
       "<title>s0&#45;a1&#45;&gt;s2</title>\n",
       "<path fill=\"none\" stroke=\"#0000ff\" stroke-dasharray=\"5,2\" d=\"M288.1218,-224.5115C325.3838,-221.0932 394.0687,-214.7923 449.3151,-209.7242\"/>\n",
       "<polygon fill=\"#0000ff\" stroke=\"#0000ff\" points=\"449.8254,-213.1922 459.4638,-208.7932 449.1859,-206.2214 449.8254,-213.1922\"/>\n",
       "<text text-anchor=\"middle\" x=\"373.633\" y=\"-227.5984\" font-family=\"Arial\" font-size=\"16.00\" fill=\"#000000\">p = 1</text>\n",
       "</g>\n",
       "<!-- s1 -->\n",
       "<g id=\"node5\" class=\"node\">\n",
       "<title>s1</title>\n",
       "<ellipse fill=\"#85ff75\" stroke=\"#85ff75\" cx=\"995.0524\" cy=\"-101\" rx=\"69.0555\" ry=\"69.0555\"/>\n",
       "<ellipse fill=\"none\" stroke=\"#85ff75\" cx=\"995.0524\" cy=\"-101\" rx=\"73.0571\" ry=\"73.0571\"/>\n",
       "<text text-anchor=\"middle\" x=\"995.0524\" y=\"-109.3977\" font-family=\"Arial\" font-size=\"24.00\" fill=\"#000000\">s1</text>\n",
       "<text text-anchor=\"middle\" x=\"995.0524\" y=\"-81.8\" font-family=\"Arial\" font-size=\"24.00\" fill=\"#000000\">V =11.1</text>\n",
       "</g>\n",
       "<!-- s1&#45;a0 -->\n",
       "<g id=\"node6\" class=\"node\">\n",
       "<title>s1&#45;a0</title>\n",
       "<ellipse fill=\"#ffb6c1\" stroke=\"#ffb6c1\" cx=\"1189.3985\" cy=\"-78\" rx=\"27.0882\" ry=\"27.0882\"/>\n",
       "<text text-anchor=\"middle\" x=\"1189.3985\" y=\"-73.499\" font-family=\"Arial\" font-size=\"20.00\" fill=\"#000000\">a0</text>\n",
       "</g>\n",
       "<!-- s1&#45;&gt;s1&#45;a0 -->\n",
       "<g id=\"edge6\" class=\"edge\">\n",
       "<title>s1&#45;&gt;s1&#45;a0</title>\n",
       "<path fill=\"none\" stroke=\"#ff0000\" stroke-width=\"2\" d=\"M1068.1347,-95.6718C1092.4472,-93.4937 1119.6251,-90.62 1144.3544,-87 1147.0717,-86.6022 1149.8731,-86.1486 1152.6867,-85.6614\"/>\n",
       "<polygon fill=\"#ff0000\" stroke=\"#ff0000\" stroke-width=\"2\" points=\"1153.6054,-89.0509 1162.8014,-83.7893 1152.3314,-82.1678 1153.6054,-89.0509\"/>\n",
       "</g>\n",
       "<!-- s1&#45;a1 -->\n",
       "<g id=\"node7\" class=\"node\">\n",
       "<title>s1&#45;a1</title>\n",
       "<ellipse fill=\"#ffb6c1\" stroke=\"#ffb6c1\" cx=\"1189.3985\" cy=\"-159\" rx=\"27.0882\" ry=\"27.0882\"/>\n",
       "<text text-anchor=\"middle\" x=\"1189.3985\" y=\"-154.499\" font-family=\"Arial\" font-size=\"20.00\" fill=\"#000000\">a1</text>\n",
       "</g>\n",
       "<!-- s1&#45;&gt;s1&#45;a1 -->\n",
       "<g id=\"edge10\" class=\"edge\">\n",
       "<title>s1&#45;&gt;s1&#45;a1</title>\n",
       "<path fill=\"none\" stroke=\"#ff0000\" stroke-width=\"2\" d=\"M1066.3018,-117.3916C1091.2221,-123.708 1119.2404,-131.4725 1144.3544,-140 1147.8554,-141.1888 1151.4692,-142.5231 1155.0561,-143.9191\"/>\n",
       "<polygon fill=\"#ff0000\" stroke=\"#ff0000\" stroke-width=\"2\" points=\"1153.8092,-147.1902 1164.3917,-147.7006 1156.4372,-140.7023 1153.8092,-147.1902\"/>\n",
       "</g>\n",
       "<!-- s1&#45;a0&#45;&gt;s0 -->\n",
       "<g id=\"edge7\" class=\"edge\">\n",
       "<title>s1&#45;a0&#45;&gt;s0</title>\n",
       "<path fill=\"none\" stroke=\"#0000ff\" stroke-dasharray=\"5,2\" d=\"M1166.945,-62.403C1131.9216,-39.6406 1061.4033,0 995.0524,0 260.9952,0 260.9952,0 260.9952,0 214.2785,0 169.1524,-26.1046 134.9698,-53.1083\"/>\n",
       "<polygon fill=\"#0000ff\" stroke=\"#0000ff\" points=\"132.5223,-50.5871 126.9645,-59.6072 136.9342,-56.0217 132.5223,-50.5871\"/>\n",
       "<text text-anchor=\"middle\" x=\"690.7326\" y=\"-5.5984\" font-family=\"Arial\" font-size=\"16.00\" fill=\"#000000\">p = 0.7 &#160;reward =5</text>\n",
       "</g>\n",
       "<!-- s1&#45;a0&#45;&gt;s2 -->\n",
       "<g id=\"edge9\" class=\"edge\">\n",
       "<title>s1&#45;a0&#45;&gt;s2</title>\n",
       "<path fill=\"none\" stroke=\"#0000ff\" stroke-dasharray=\"5,2\" d=\"M1174.501,-100.8923C1170.2917,-107.8429 1165.8974,-115.6012 1162.3544,-123 1152.3342,-143.9253 1162.3801,-157.3937 1144.3544,-172 1104.473,-204.316 776.2923,-204.9281 618.1242,-203.2939\"/>\n",
       "<polygon fill=\"#0000ff\" stroke=\"#0000ff\" points=\"617.9942,-199.7924 607.9567,-203.1833 617.918,-206.792 617.9942,-199.7924\"/>\n",
       "<text text-anchor=\"middle\" x=\"874.8872\" y=\"-207.5984\" font-family=\"Arial\" font-size=\"16.00\" fill=\"#000000\">p = 0.2</text>\n",
       "</g>\n",
       "<!-- s1&#45;a0&#45;&gt;s1 -->\n",
       "<g id=\"edge8\" class=\"edge\">\n",
       "<title>s1&#45;a0&#45;&gt;s1</title>\n",
       "<path fill=\"none\" stroke=\"#0000ff\" stroke-dasharray=\"5,2\" d=\"M1163.4848,-68.9047C1157.2935,-67.1203 1150.6519,-65.5183 1144.3544,-64.6016 1118.7252,-60.8706 1111.5133,-59.7054 1086.081,-64.6016 1081.3177,-65.5186 1076.4868,-66.6825 1071.6624,-68.0271\"/>\n",
       "<polygon fill=\"#0000ff\" stroke=\"#0000ff\" points=\"1070.3468,-64.7685 1061.7924,-71.0193 1072.3777,-71.4675 1070.3468,-64.7685\"/>\n",
       "<text text-anchor=\"middle\" x=\"1115.2177\" y=\"-69.5984\" font-family=\"Arial\" font-size=\"16.00\" fill=\"#000000\">p = 0.1</text>\n",
       "</g>\n",
       "<!-- s1&#45;a1&#45;&gt;s2 -->\n",
       "<g id=\"edge12\" class=\"edge\">\n",
       "<title>s1&#45;a1&#45;&gt;s2</title>\n",
       "<path fill=\"none\" stroke=\"#0000ff\" stroke-dasharray=\"5,2\" d=\"M1176.991,-183.2817C1169.3645,-195.446 1158.3587,-209.0369 1144.3544,-216 937.9887,-318.6079 855.4058,-235.9427 625.8029,-216 622.9271,-215.7502 620.0048,-215.4674 617.0562,-215.1574\"/>\n",
       "<polygon fill=\"#0000ff\" stroke=\"#0000ff\" points=\"617.2917,-211.6617 606.9597,-214.0069 616.4991,-218.6167 617.2917,-211.6617\"/>\n",
       "<text text-anchor=\"middle\" x=\"874.8872\" y=\"-267.5984\" font-family=\"Arial\" font-size=\"16.00\" fill=\"#000000\">p = 0.05</text>\n",
       "</g>\n",
       "<!-- s1&#45;a1&#45;&gt;s1 -->\n",
       "<g id=\"edge11\" class=\"edge\">\n",
       "<title>s1&#45;a1&#45;&gt;s1</title>\n",
       "<path fill=\"none\" stroke=\"#0000ff\" stroke-dasharray=\"5,2\" d=\"M1162.3286,-154.5133C1141.3029,-150.7228 1111.538,-144.6856 1086.081,-137 1081.5408,-135.6293 1076.9088,-134.1297 1072.2589,-132.5455\"/>\n",
       "<polygon fill=\"#0000ff\" stroke=\"#0000ff\" points=\"1073.3079,-129.2043 1062.713,-129.1892 1070.986,-135.808 1073.3079,-129.2043\"/>\n",
       "<text text-anchor=\"middle\" x=\"1115.2177\" y=\"-155.5984\" font-family=\"Arial\" font-size=\"16.00\" fill=\"#000000\">p = 0.95</text>\n",
       "</g>\n",
       "<!-- s2&#45;a0&#45;&gt;s0 -->\n",
       "<g id=\"edge14\" class=\"edge\">\n",
       "<title>s2&#45;a0&#45;&gt;s0</title>\n",
       "<path fill=\"none\" stroke=\"#0000ff\" stroke-dasharray=\"5,2\" d=\"M780.7251,-128.1959C773.4038,-122.4983 764.6875,-116.9669 755.6623,-114 647.348,-78.393 315.8111,-95.276 158.6389,-105.7887\"/>\n",
       "<polygon fill=\"#0000ff\" stroke=\"#0000ff\" points=\"158.2838,-102.3046 148.5427,-106.4713 158.756,-109.2886 158.2838,-102.3046\"/>\n",
       "<text text-anchor=\"middle\" x=\"373.633\" y=\"-102.5984\" font-family=\"Arial\" font-size=\"16.00\" fill=\"#000000\">p = 0.4</text>\n",
       "</g>\n",
       "<!-- s2&#45;a0&#45;&gt;s1 -->\n",
       "<g id=\"edge15\" class=\"edge\">\n",
       "<title>s2&#45;a0&#45;&gt;s1</title>\n",
       "<path fill=\"none\" stroke=\"#0000ff\" stroke-dasharray=\"5,2\" d=\"M827.3219,-140.7003C849.6477,-135.416 882.7545,-127.5799 913.6702,-120.2625\"/>\n",
       "<polygon fill=\"#0000ff\" stroke=\"#0000ff\" points=\"914.6893,-123.618 923.6143,-117.9088 913.077,-116.8062 914.6893,-123.618\"/>\n",
       "<text text-anchor=\"middle\" x=\"874.8872\" y=\"-140.5984\" font-family=\"Arial\" font-size=\"16.00\" fill=\"#000000\">p = 0.6</text>\n",
       "</g>\n",
       "<!-- s2&#45;a1&#45;&gt;s0 -->\n",
       "<g id=\"edge17\" class=\"edge\">\n",
       "<title>s2&#45;a1&#45;&gt;s0</title>\n",
       "<path fill=\"none\" stroke=\"#0000ff\" stroke-dasharray=\"5,2\" d=\"M773.5538,-72.9118C698.8066,-67.5615 483.765,-54.8524 306.0393,-70.6016 256.1831,-75.0196 200.9937,-84.684 156.9822,-93.5645\"/>\n",
       "<polygon fill=\"#0000ff\" stroke=\"#0000ff\" points=\"156.0056,-90.1916 146.9086,-95.6226 157.4069,-97.05 156.0056,-90.1916\"/>\n",
       "<text text-anchor=\"middle\" x=\"373.633\" y=\"-75.5984\" font-family=\"Arial\" font-size=\"16.00\" fill=\"#000000\">p = 0.3 &#160;reward =&#45;1</text>\n",
       "</g>\n",
       "<!-- s2&#45;a1&#45;&gt;s2 -->\n",
       "<g id=\"edge19\" class=\"edge\">\n",
       "<title>s2&#45;a1&#45;&gt;s2</title>\n",
       "<path fill=\"none\" stroke=\"#0000ff\" stroke-dasharray=\"5,2\" d=\"M780.9513,-93.5754C773.5185,-99.6541 764.674,-105.8931 755.6623,-110 702.1328,-134.3951 679.7733,-112.1981 625.8029,-135.6016 616.9069,-139.4592 608.0268,-144.2813 599.4839,-149.5557\"/>\n",
       "<polygon fill=\"#0000ff\" stroke=\"#0000ff\" points=\"597.5885,-146.6133 591.0654,-154.962 601.3711,-152.5034 597.5885,-146.6133\"/>\n",
       "<text text-anchor=\"middle\" x=\"690.7326\" y=\"-140.5984\" font-family=\"Arial\" font-size=\"16.00\" fill=\"#000000\">p = 0.4</text>\n",
       "</g>\n",
       "<!-- s2&#45;a1&#45;&gt;s1 -->\n",
       "<g id=\"edge18\" class=\"edge\">\n",
       "<title>s2&#45;a1&#45;&gt;s1</title>\n",
       "<path fill=\"none\" stroke=\"#0000ff\" stroke-dasharray=\"5,2\" d=\"M827.7294,-78.6152C849.7503,-81.5612 882.0626,-85.884 912.4341,-89.9472\"/>\n",
       "<polygon fill=\"#0000ff\" stroke=\"#0000ff\" points=\"912.2661,-93.4558 922.642,-91.3128 913.1944,-86.5176 912.2661,-93.4558\"/>\n",
       "<text text-anchor=\"middle\" x=\"874.8872\" y=\"-93.5984\" font-family=\"Arial\" font-size=\"16.00\" fill=\"#000000\">p = 0.3</text>\n",
       "</g>\n",
       "</g>\n",
       "</svg>\n"
      ],
      "text/plain": [
       "<graphviz.dot.Digraph at 0x10a5f7a90>"
      ]
     },
     "metadata": {},
     "output_type": "display_data"
    }
   ],
   "source": [
    "if has_graphviz:\n",
    "    display(plot_graph_with_state_values(mdp, state_values))"
   ]
  },
  {
   "cell_type": "code",
   "execution_count": 13,
   "metadata": {
    "ExecuteTime": {
     "end_time": "2018-04-02T13:43:17.106395Z",
     "start_time": "2018-04-02T13:43:05.522Z"
    }
   },
   "outputs": [
    {
     "name": "stdout",
     "output_type": "stream",
     "text": [
      "Final state values: {'s0': 8.023123818663871, 's1': 11.163174814980803, 's2': 8.915559364985523}\n"
     ]
    }
   ],
   "source": [
    "print(\"Final state values:\", state_values)\n",
    "\n",
    "assert abs(state_values['s0'] - 8.032) < 0.01\n",
    "assert abs(state_values['s1'] - 11.169) < 0.01\n",
    "assert abs(state_values['s2'] - 8.921) < 0.01"
   ]
  },
  {
   "cell_type": "markdown",
   "metadata": {},
   "source": [
    "Now let's use those $V^{*}(s)$ to find optimal actions in each state\n",
    "\n",
    " $$\\pi^*(s) = argmax_a \\sum_{s'} P(s' | s,a) \\cdot [ r(s,a,s') + \\gamma V_{i}(s')] = argmax_a Q_i(s,a)$$\n",
    " \n",
    "The only difference vs V(s) is that here we take not max but argmax: find action such with maximum Q(s,a)."
   ]
  },
  {
   "cell_type": "code",
   "execution_count": 14,
   "metadata": {
    "ExecuteTime": {
     "end_time": "2018-04-02T13:43:17.107338Z",
     "start_time": "2018-04-02T13:43:05.525Z"
    }
   },
   "outputs": [],
   "source": [
    "def get_optimal_action(mdp, state_values, state, gamma=0.9):\n",
    "    \"\"\" Finds optimal action using formula above. \"\"\"\n",
    "    if mdp.is_terminal(state):\n",
    "        return None\n",
    "\n",
    "    # <YOUR CODE HERE>\n",
    "    qvalues = []\n",
    "    actions = mdp.get_possible_actions(state)\n",
    "    \n",
    "    for action in actions:\n",
    "        qvalue = get_action_value(\n",
    "            mdp, state_values, state, action, gamma)\n",
    "        qvalues.append(qvalue)\n",
    "    \n",
    "    best_action_i = np.argmax(qvalues)\n",
    "    best_action = actions[best_action_i]\n",
    "    return best_action"
   ]
  },
  {
   "cell_type": "code",
   "execution_count": 15,
   "metadata": {
    "ExecuteTime": {
     "end_time": "2018-04-02T13:43:17.108149Z",
     "start_time": "2018-04-02T13:43:05.530Z"
    }
   },
   "outputs": [],
   "source": [
    "assert get_optimal_action(mdp, state_values, 's0', gamma) == 'a1'\n",
    "assert get_optimal_action(mdp, state_values, 's1', gamma) == 'a0'\n",
    "assert get_optimal_action(mdp, state_values, 's2', gamma) == 'a0'"
   ]
  },
  {
   "cell_type": "code",
   "execution_count": 16,
   "metadata": {
    "ExecuteTime": {
     "end_time": "2018-04-02T13:44:05.017823Z",
     "start_time": "2018-04-02T13:44:04.962755Z"
    }
   },
   "outputs": [
    {
     "data": {
      "image/svg+xml": [
       "<?xml version=\"1.0\" encoding=\"UTF-8\" standalone=\"no\"?>\n",
       "<!DOCTYPE svg PUBLIC \"-//W3C//DTD SVG 1.1//EN\"\n",
       " \"http://www.w3.org/Graphics/SVG/1.1/DTD/svg11.dtd\">\n",
       "<!-- Generated by graphviz version 2.40.1 (20161225.0304)\n",
       " -->\n",
       "<!-- Title: MDP Pages: 1 -->\n",
       "<svg width=\"720pt\" height=\"171pt\"\n",
       " viewBox=\"0.00 0.00 720.00 170.76\" xmlns=\"http://www.w3.org/2000/svg\" xmlns:xlink=\"http://www.w3.org/1999/xlink\">\n",
       "<g id=\"graph0\" class=\"graph\" transform=\"scale(.588 .588) rotate(0) translate(4 286.3984)\">\n",
       "<title>MDP</title>\n",
       "<polygon fill=\"#ffffff\" stroke=\"transparent\" points=\"-4,4 -4,-286.3984 1220.4425,-286.3984 1220.4425,4 -4,4\"/>\n",
       "<!-- s0 -->\n",
       "<g id=\"node1\" class=\"node\">\n",
       "<title>s0</title>\n",
       "<ellipse fill=\"#85ff75\" stroke=\"#85ff75\" cx=\"74.2881\" cy=\"-113\" rx=\"70.0881\" ry=\"70.0881\"/>\n",
       "<ellipse fill=\"none\" stroke=\"#85ff75\" cx=\"74.2881\" cy=\"-113\" rx=\"74.0767\" ry=\"74.0767\"/>\n",
       "<text text-anchor=\"middle\" x=\"74.2881\" y=\"-121.3977\" font-family=\"Arial\" font-size=\"24.00\" fill=\"#000000\">s0</text>\n",
       "<text text-anchor=\"middle\" x=\"74.2881\" y=\"-93.8\" font-family=\"Arial\" font-size=\"24.00\" fill=\"#000000\">V =8.02</text>\n",
       "</g>\n",
       "<!-- s0&#45;a0 -->\n",
       "<g id=\"node2\" class=\"node\">\n",
       "<title>s0&#45;a0</title>\n",
       "<ellipse fill=\"#ffb6c1\" stroke=\"#ffb6c1\" cx=\"260.9952\" cy=\"-143\" rx=\"27.0882\" ry=\"27.0882\"/>\n",
       "<text text-anchor=\"middle\" x=\"260.9952\" y=\"-138.499\" font-family=\"Arial\" font-size=\"20.00\" fill=\"#000000\">a0</text>\n",
       "</g>\n",
       "<!-- s0&#45;&gt;s0&#45;a0 -->\n",
       "<g id=\"edge1\" class=\"edge\">\n",
       "<title>s0&#45;&gt;s0&#45;a0</title>\n",
       "<path fill=\"none\" stroke=\"#ff0000\" stroke-width=\"2\" d=\"M148.7194,-116.9399C170.5569,-119.0125 194.3647,-122.175 215.9511,-127 219.1907,-127.7241 222.5177,-128.6126 225.8256,-129.5963\"/>\n",
       "<polygon fill=\"#ff0000\" stroke=\"#ff0000\" stroke-width=\"2\" points=\"224.9936,-133.006 235.5857,-132.7645 227.1548,-126.348 224.9936,-133.006\"/>\n",
       "</g>\n",
       "<!-- s0&#45;a1 -->\n",
       "<g id=\"node4\" class=\"node\">\n",
       "<title>s0&#45;a1</title>\n",
       "<ellipse fill=\"#ffb6c1\" stroke=\"#ffb6c1\" cx=\"260.9952\" cy=\"-215\" rx=\"27.0882\" ry=\"27.0882\"/>\n",
       "<text text-anchor=\"middle\" x=\"260.9952\" y=\"-210.499\" font-family=\"Arial\" font-size=\"20.00\" fill=\"#000000\">a1</text>\n",
       "</g>\n",
       "<!-- s0&#45;&gt;s0&#45;a1 -->\n",
       "<g id=\"edge4\" class=\"edge\">\n",
       "<title>s0&#45;&gt;s0&#45;a1</title>\n",
       "<path fill=\"none\" stroke=\"#ff0000\" stroke-width=\"2\" d=\"M142.2218,-143.5904C172.5469,-159.6018 206.7459,-178.7467 230.6321,-193.2748\"/>\n",
       "<polygon fill=\"#ff0000\" stroke=\"#ff0000\" stroke-width=\"2\" points=\"228.9053,-196.322 239.2522,-198.6005 232.5846,-190.3669 228.9053,-196.322\"/>\n",
       "</g>\n",
       "<!-- s0&#45;&gt;s0&#45;a1 -->\n",
       "<g id=\"edge20\" class=\"edge\">\n",
       "<title>s0&#45;&gt;s0&#45;a1</title>\n",
       "<path fill=\"none\" stroke=\"#00ff00\" stroke-width=\"6\" d=\"M136.7184,-153.5158C166.6108,-170.528 201.2719,-189.1219 226.3825,-201.4749\"/>\n",
       "<polygon fill=\"#00ff00\" stroke=\"#00ff00\" stroke-width=\"6\" points=\"224.2207,-206.2611 235.5089,-205.8874 228.7912,-196.808 224.2207,-206.2611\"/>\n",
       "</g>\n",
       "<!-- s0&#45;a0&#45;&gt;s0 -->\n",
       "<g id=\"edge2\" class=\"edge\">\n",
       "<title>s0&#45;a0&#45;&gt;s0</title>\n",
       "<path fill=\"none\" stroke=\"#0000ff\" stroke-dasharray=\"5,2\" d=\"M234.143,-138.6854C214.0429,-135.4557 185.3884,-130.8515 157.8775,-126.4311\"/>\n",
       "<polygon fill=\"#0000ff\" stroke=\"#0000ff\" points=\"158.2403,-122.9446 147.8117,-124.8137 157.1297,-129.8559 158.2403,-122.9446\"/>\n",
       "<text text-anchor=\"middle\" x=\"191.2636\" y=\"-140.5984\" font-family=\"Arial\" font-size=\"16.00\" fill=\"#000000\">p = 0.5</text>\n",
       "</g>\n",
       "<!-- s2 -->\n",
       "<g id=\"node3\" class=\"node\">\n",
       "<title>s2</title>\n",
       "<ellipse fill=\"#85ff75\" stroke=\"#85ff75\" cx=\"533.5149\" cy=\"-190\" rx=\"70.0881\" ry=\"70.0881\"/>\n",
       "<ellipse fill=\"none\" stroke=\"#85ff75\" cx=\"533.5149\" cy=\"-190\" rx=\"74.0767\" ry=\"74.0767\"/>\n",
       "<text text-anchor=\"middle\" x=\"533.5149\" y=\"-198.3977\" font-family=\"Arial\" font-size=\"24.00\" fill=\"#000000\">s2</text>\n",
       "<text text-anchor=\"middle\" x=\"533.5149\" y=\"-170.8\" font-family=\"Arial\" font-size=\"24.00\" fill=\"#000000\">V =8.91</text>\n",
       "</g>\n",
       "<!-- s0&#45;a0&#45;&gt;s2 -->\n",
       "<g id=\"edge3\" class=\"edge\">\n",
       "<title>s0&#45;a0&#45;&gt;s2</title>\n",
       "<path fill=\"none\" stroke=\"#0000ff\" stroke-dasharray=\"5,2\" d=\"M288.1218,-147.6784C325.5106,-154.1266 394.5363,-166.0311 449.8784,-175.5757\"/>\n",
       "<polygon fill=\"#0000ff\" stroke=\"#0000ff\" points=\"449.5926,-179.078 460.042,-177.3285 450.7824,-172.1798 449.5926,-179.078\"/>\n",
       "<text text-anchor=\"middle\" x=\"373.633\" y=\"-178.5984\" font-family=\"Arial\" font-size=\"16.00\" fill=\"#000000\">p = 0.5</text>\n",
       "</g>\n",
       "<!-- s2&#45;a0 -->\n",
       "<g id=\"node8\" class=\"node\">\n",
       "<title>s2&#45;a0</title>\n",
       "<ellipse fill=\"#ffb6c1\" stroke=\"#ffb6c1\" cx=\"800.7064\" cy=\"-146\" rx=\"27.0882\" ry=\"27.0882\"/>\n",
       "<text text-anchor=\"middle\" x=\"800.7064\" y=\"-141.499\" font-family=\"Arial\" font-size=\"20.00\" fill=\"#000000\">a0</text>\n",
       "</g>\n",
       "<!-- s2&#45;&gt;s2&#45;a0 -->\n",
       "<g id=\"edge13\" class=\"edge\">\n",
       "<title>s2&#45;&gt;s2&#45;a0</title>\n",
       "<path fill=\"none\" stroke=\"#ff0000\" stroke-width=\"2\" d=\"M605.8207,-172.0187C656.7192,-162.4314 722.7712,-151.9618 763.4237,-147.2881\"/>\n",
       "<polygon fill=\"#ff0000\" stroke=\"#ff0000\" stroke-width=\"2\" points=\"763.8709,-150.7602 773.4359,-146.2037 763.1171,-143.8009 763.8709,-150.7602\"/>\n",
       "</g>\n",
       "<!-- s2&#45;&gt;s2&#45;a0 -->\n",
       "<g id=\"edge22\" class=\"edge\">\n",
       "<title>s2&#45;&gt;s2&#45;a0</title>\n",
       "<path fill=\"none\" stroke=\"#00ff00\" stroke-width=\"6\" d=\"M607.5878,-183.9173C658.8765,-176.6407 724.8775,-165.3253 764.9281,-156.6672\"/>\n",
       "<polygon fill=\"#00ff00\" stroke=\"#00ff00\" stroke-width=\"6\" points=\"766.1539,-161.7729 774.7705,-154.471 763.8671,-151.5249 766.1539,-161.7729\"/>\n",
       "</g>\n",
       "<!-- s2&#45;a1 -->\n",
       "<g id=\"node9\" class=\"node\">\n",
       "<title>s2&#45;a1</title>\n",
       "<ellipse fill=\"#ffb6c1\" stroke=\"#ffb6c1\" cx=\"800.7064\" cy=\"-71\" rx=\"27.0882\" ry=\"27.0882\"/>\n",
       "<text text-anchor=\"middle\" x=\"800.7064\" y=\"-66.499\" font-family=\"Arial\" font-size=\"20.00\" fill=\"#000000\">a1</text>\n",
       "</g>\n",
       "<!-- s2&#45;&gt;s2&#45;a1 -->\n",
       "<g id=\"edge16\" class=\"edge\">\n",
       "<title>s2&#45;&gt;s2&#45;a1</title>\n",
       "<path fill=\"none\" stroke=\"#ff0000\" stroke-width=\"2\" d=\"M583.2129,-134.2696C596.0379,-122.7065 610.5598,-111.7107 625.8029,-104 669.5964,-81.8473 726.3705,-74.4801 763.163,-72.079\"/>\n",
       "<polygon fill=\"#ff0000\" stroke=\"#ff0000\" stroke-width=\"2\" points=\"763.654,-75.5571 773.4428,-71.5037 763.2628,-68.568 763.654,-75.5571\"/>\n",
       "</g>\n",
       "<!-- s0&#45;a1&#45;&gt;s2 -->\n",
       "<g id=\"edge5\" class=\"edge\">\n",
       "<title>s0&#45;a1&#45;&gt;s2</title>\n",
       "<path fill=\"none\" stroke=\"#0000ff\" stroke-dasharray=\"5,2\" d=\"M288.1218,-212.5115C325.3838,-209.0932 394.0687,-202.7923 449.3151,-197.7242\"/>\n",
       "<polygon fill=\"#0000ff\" stroke=\"#0000ff\" points=\"449.8254,-201.1922 459.4638,-196.7932 449.1859,-194.2214 449.8254,-201.1922\"/>\n",
       "<text text-anchor=\"middle\" x=\"373.633\" y=\"-215.5984\" font-family=\"Arial\" font-size=\"16.00\" fill=\"#000000\">p = 1</text>\n",
       "</g>\n",
       "<!-- s1 -->\n",
       "<g id=\"node5\" class=\"node\">\n",
       "<title>s1</title>\n",
       "<ellipse fill=\"#85ff75\" stroke=\"#85ff75\" cx=\"995.0524\" cy=\"-101\" rx=\"69.0555\" ry=\"69.0555\"/>\n",
       "<ellipse fill=\"none\" stroke=\"#85ff75\" cx=\"995.0524\" cy=\"-101\" rx=\"73.0571\" ry=\"73.0571\"/>\n",
       "<text text-anchor=\"middle\" x=\"995.0524\" y=\"-109.3977\" font-family=\"Arial\" font-size=\"24.00\" fill=\"#000000\">s1</text>\n",
       "<text text-anchor=\"middle\" x=\"995.0524\" y=\"-81.8\" font-family=\"Arial\" font-size=\"24.00\" fill=\"#000000\">V =11.1</text>\n",
       "</g>\n",
       "<!-- s1&#45;a0 -->\n",
       "<g id=\"node6\" class=\"node\">\n",
       "<title>s1&#45;a0</title>\n",
       "<ellipse fill=\"#ffb6c1\" stroke=\"#ffb6c1\" cx=\"1189.3985\" cy=\"-98\" rx=\"27.0882\" ry=\"27.0882\"/>\n",
       "<text text-anchor=\"middle\" x=\"1189.3985\" y=\"-93.499\" font-family=\"Arial\" font-size=\"20.00\" fill=\"#000000\">a0</text>\n",
       "</g>\n",
       "<!-- s1&#45;&gt;s1&#45;a0 -->\n",
       "<g id=\"edge6\" class=\"edge\">\n",
       "<title>s1&#45;&gt;s1&#45;a0</title>\n",
       "<path fill=\"none\" stroke=\"#ff0000\" stroke-width=\"2\" d=\"M1067.6961,-93.3235C1096.6225,-92.4082 1128.6518,-92.2907 1152.589,-93.1437\"/>\n",
       "<polygon fill=\"#ff0000\" stroke=\"#ff0000\" stroke-width=\"2\" points=\"1152.5036,-96.6432 1162.6479,-93.5867 1152.8117,-89.65 1152.5036,-96.6432\"/>\n",
       "</g>\n",
       "<!-- s1&#45;&gt;s1&#45;a0 -->\n",
       "<g id=\"edge21\" class=\"edge\">\n",
       "<title>s1&#45;&gt;s1&#45;a0</title>\n",
       "<path fill=\"none\" stroke=\"#00ff00\" stroke-width=\"6\" d=\"M1067.9727,-106.4339C1096.8704,-106.4505 1128.8251,-105.577 1152.6978,-103.9855\"/>\n",
       "<polygon fill=\"#00ff00\" stroke=\"#00ff00\" stroke-width=\"6\" points=\"1153.1502,-109.2164 1162.729,-103.2323 1152.3639,-98.7458 1153.1502,-109.2164\"/>\n",
       "</g>\n",
       "<!-- s1&#45;a1 -->\n",
       "<g id=\"node7\" class=\"node\">\n",
       "<title>s1&#45;a1</title>\n",
       "<ellipse fill=\"#ffb6c1\" stroke=\"#ffb6c1\" cx=\"1189.3985\" cy=\"-170\" rx=\"27.0882\" ry=\"27.0882\"/>\n",
       "<text text-anchor=\"middle\" x=\"1189.3985\" y=\"-165.499\" font-family=\"Arial\" font-size=\"20.00\" fill=\"#000000\">a1</text>\n",
       "</g>\n",
       "<!-- s1&#45;&gt;s1&#45;a1 -->\n",
       "<g id=\"edge10\" class=\"edge\">\n",
       "<title>s1&#45;&gt;s1&#45;a1</title>\n",
       "<path fill=\"none\" stroke=\"#ff0000\" stroke-width=\"2\" d=\"M1065.1927,-121.5596C1090.396,-129.4683 1118.8792,-139.0118 1144.3544,-149 1148.0445,-150.4468 1151.8607,-152.0506 1155.6389,-153.7084\"/>\n",
       "<polygon fill=\"#ff0000\" stroke=\"#ff0000\" stroke-width=\"2\" points=\"1154.3054,-156.9466 1164.8589,-157.882 1157.1922,-150.5695 1154.3054,-156.9466\"/>\n",
       "</g>\n",
       "<!-- s1&#45;a0&#45;&gt;s0 -->\n",
       "<g id=\"edge7\" class=\"edge\">\n",
       "<title>s1&#45;a0&#45;&gt;s0</title>\n",
       "<path fill=\"none\" stroke=\"#0000ff\" stroke-dasharray=\"5,2\" d=\"M1169.2472,-79.7966C1135.7031,-51.4558 1065.1484,0 995.0524,0 260.9952,0 260.9952,0 260.9952,0 214.1677,0 169.0379,-26.3377 134.8809,-53.5824\"/>\n",
       "<polygon fill=\"#0000ff\" stroke=\"#0000ff\" points=\"132.397,-51.0929 126.8823,-60.1394 136.8348,-56.5064 132.397,-51.0929\"/>\n",
       "<text text-anchor=\"middle\" x=\"690.7326\" y=\"-5.5984\" font-family=\"Arial\" font-size=\"16.00\" fill=\"#000000\">p = 0.7 &#160;reward =5</text>\n",
       "</g>\n",
       "<!-- s1&#45;a0&#45;&gt;s2 -->\n",
       "<g id=\"edge9\" class=\"edge\">\n",
       "<title>s1&#45;a0&#45;&gt;s2</title>\n",
       "<path fill=\"none\" stroke=\"#0000ff\" stroke-dasharray=\"5,2\" d=\"M1172.0182,-119.0097C1168.5442,-123.7666 1165.1184,-128.9184 1162.3544,-134 1151.2688,-154.3809 1163.3027,-169.6122 1144.3544,-183 1062.0409,-241.1583 765.2512,-216.8175 617.8268,-200.4207\"/>\n",
       "<polygon fill=\"#0000ff\" stroke=\"#0000ff\" points=\"617.8043,-196.8961 607.4754,-199.2551 617.021,-203.8521 617.8043,-196.8961\"/>\n",
       "<text text-anchor=\"middle\" x=\"874.8872\" y=\"-224.5984\" font-family=\"Arial\" font-size=\"16.00\" fill=\"#000000\">p = 0.2</text>\n",
       "</g>\n",
       "<!-- s1&#45;a0&#45;&gt;s1 -->\n",
       "<g id=\"edge8\" class=\"edge\">\n",
       "<title>s1&#45;a0&#45;&gt;s1</title>\n",
       "<path fill=\"none\" stroke=\"#0000ff\" stroke-dasharray=\"5,2\" d=\"M1165.8624,-83.7588C1159.1489,-80.4105 1151.6663,-77.3192 1144.3544,-75.6016 1121.8348,-70.3115 1097.1597,-71.6574 1074.4705,-75.7029\"/>\n",
       "<polygon fill=\"#0000ff\" stroke=\"#0000ff\" points=\"1073.6741,-72.2925 1064.5416,-77.6635 1075.0302,-79.1599 1073.6741,-72.2925\"/>\n",
       "<text text-anchor=\"middle\" x=\"1115.2177\" y=\"-80.5984\" font-family=\"Arial\" font-size=\"16.00\" fill=\"#000000\">p = 0.1</text>\n",
       "</g>\n",
       "<!-- s1&#45;a1&#45;&gt;s2 -->\n",
       "<g id=\"edge12\" class=\"edge\">\n",
       "<title>s1&#45;a1&#45;&gt;s2</title>\n",
       "<path fill=\"none\" stroke=\"#0000ff\" stroke-dasharray=\"5,2\" d=\"M1173.5814,-192.5714C1165.9016,-201.6028 1155.8437,-211.0289 1144.3544,-216 932.8367,-307.5174 853.728,-250.1372 625.8029,-216 622.1298,-215.4499 618.3958,-214.7981 614.6396,-214.0666\"/>\n",
       "<polygon fill=\"#0000ff\" stroke=\"#0000ff\" points=\"615.1788,-210.6033 604.6711,-211.9592 613.7309,-217.452 615.1788,-210.6033\"/>\n",
       "<text text-anchor=\"middle\" x=\"874.8872\" y=\"-269.5984\" font-family=\"Arial\" font-size=\"16.00\" fill=\"#000000\">p = 0.05</text>\n",
       "</g>\n",
       "<!-- s1&#45;a1&#45;&gt;s1 -->\n",
       "<g id=\"edge11\" class=\"edge\">\n",
       "<title>s1&#45;a1&#45;&gt;s1</title>\n",
       "<path fill=\"none\" stroke=\"#0000ff\" stroke-dasharray=\"5,2\" d=\"M1162.5855,-165.5324C1141.4391,-161.5914 1111.3941,-155.0592 1086.081,-146 1080.5517,-144.0212 1074.92,-141.7953 1069.3063,-139.4203\"/>\n",
       "<polygon fill=\"#0000ff\" stroke=\"#0000ff\" points=\"1070.461,-136.1051 1059.8969,-135.2997 1067.653,-142.5173 1070.461,-136.1051\"/>\n",
       "<text text-anchor=\"middle\" x=\"1115.2177\" y=\"-166.5984\" font-family=\"Arial\" font-size=\"16.00\" fill=\"#000000\">p = 0.95</text>\n",
       "</g>\n",
       "<!-- s2&#45;a0&#45;&gt;s0 -->\n",
       "<g id=\"edge14\" class=\"edge\">\n",
       "<title>s2&#45;a0&#45;&gt;s0</title>\n",
       "<path fill=\"none\" stroke=\"#0000ff\" stroke-dasharray=\"5,2\" d=\"M783.017,-125.4667C775.425,-118.1744 765.9364,-110.8297 755.6623,-107 538.3944,-26.0118 465.7819,-102.6455 233.9511,-107 209.5626,-107.4581 183.0896,-108.3094 158.842,-109.2298\"/>\n",
       "<polygon fill=\"#0000ff\" stroke=\"#0000ff\" points=\"158.4556,-105.7421 148.599,-109.6276 158.7273,-112.7368 158.4556,-105.7421\"/>\n",
       "<text text-anchor=\"middle\" x=\"373.633\" y=\"-107.5984\" font-family=\"Arial\" font-size=\"16.00\" fill=\"#000000\">p = 0.4</text>\n",
       "</g>\n",
       "<!-- s2&#45;a0&#45;&gt;s1 -->\n",
       "<g id=\"edge15\" class=\"edge\">\n",
       "<title>s2&#45;a0&#45;&gt;s1</title>\n",
       "<path fill=\"none\" stroke=\"#0000ff\" stroke-dasharray=\"5,2\" d=\"M827.3219,-139.8373C849.6477,-134.6679 882.7545,-127.0021 913.6702,-119.8437\"/>\n",
       "<polygon fill=\"#0000ff\" stroke=\"#0000ff\" points=\"914.6616,-123.2068 923.6143,-117.5412 913.0825,-116.3873 914.6616,-123.2068\"/>\n",
       "<text text-anchor=\"middle\" x=\"874.8872\" y=\"-140.5984\" font-family=\"Arial\" font-size=\"16.00\" fill=\"#000000\">p = 0.6</text>\n",
       "</g>\n",
       "<!-- s2&#45;a1&#45;&gt;s0 -->\n",
       "<g id=\"edge17\" class=\"edge\">\n",
       "<title>s2&#45;a1&#45;&gt;s0</title>\n",
       "<path fill=\"none\" stroke=\"#0000ff\" stroke-dasharray=\"5,2\" d=\"M773.7871,-68.0805C699.1966,-60.5093 483.6386,-42.1437 306.0393,-61.6016 255.4793,-67.1409 199.8063,-79.285 155.7011,-90.3783\"/>\n",
       "<polygon fill=\"#0000ff\" stroke=\"#0000ff\" points=\"154.7269,-87.0146 145.8997,-92.8739 156.4542,-93.7981 154.7269,-87.0146\"/>\n",
       "<text text-anchor=\"middle\" x=\"373.633\" y=\"-66.5984\" font-family=\"Arial\" font-size=\"16.00\" fill=\"#000000\">p = 0.3 &#160;reward =&#45;1</text>\n",
       "</g>\n",
       "<!-- s2&#45;a1&#45;&gt;s2 -->\n",
       "<g id=\"edge19\" class=\"edge\">\n",
       "<title>s2&#45;a1&#45;&gt;s2</title>\n",
       "<path fill=\"none\" stroke=\"#0000ff\" stroke-dasharray=\"5,2\" d=\"M779.2389,-88.2234C772.0777,-93.2828 763.834,-98.4148 755.6623,-102 701.4543,-125.783 680.4598,-108.869 625.8029,-131.6016 618.4173,-134.6734 610.9595,-138.3187 603.6541,-142.2651\"/>\n",
       "<polygon fill=\"#0000ff\" stroke=\"#0000ff\" points=\"601.5056,-139.4573 594.4988,-147.4043 604.9321,-145.5613 601.5056,-139.4573\"/>\n",
       "<text text-anchor=\"middle\" x=\"690.7326\" y=\"-136.5984\" font-family=\"Arial\" font-size=\"16.00\" fill=\"#000000\">p = 0.4</text>\n",
       "</g>\n",
       "<!-- s2&#45;a1&#45;&gt;s1 -->\n",
       "<g id=\"edge18\" class=\"edge\">\n",
       "<title>s2&#45;a1&#45;&gt;s1</title>\n",
       "<path fill=\"none\" stroke=\"#0000ff\" stroke-dasharray=\"5,2\" d=\"M827.7294,-75.1714C849.7503,-78.5706 882.0626,-83.5585 912.4341,-88.2467\"/>\n",
       "<polygon fill=\"#0000ff\" stroke=\"#0000ff\" points=\"912.225,-91.7558 922.642,-89.8224 913.293,-84.8378 912.225,-91.7558\"/>\n",
       "<text text-anchor=\"middle\" x=\"874.8872\" y=\"-91.5984\" font-family=\"Arial\" font-size=\"16.00\" fill=\"#000000\">p = 0.3</text>\n",
       "</g>\n",
       "</g>\n",
       "</svg>\n"
      ],
      "text/plain": [
       "<graphviz.dot.Digraph at 0x10a6322b0>"
      ]
     },
     "metadata": {},
     "output_type": "display_data"
    }
   ],
   "source": [
    "if has_graphviz:\n",
    "    try:\n",
    "        display(plot_graph_optimal_strategy_and_state_values(mdp, state_values))\n",
    "    except ImportError:\n",
    "        raise ImportError(\"Run the cell that starts with \\\"%%writefile mdp_get_action_value.py\\\"\")"
   ]
  },
  {
   "cell_type": "code",
   "execution_count": 17,
   "metadata": {
    "ExecuteTime": {
     "end_time": "2018-04-02T13:43:17.110002Z",
     "start_time": "2018-04-02T13:43:05.538Z"
    }
   },
   "outputs": [
    {
     "name": "stdout",
     "output_type": "stream",
     "text": [
      "average reward:  0.9035\n"
     ]
    }
   ],
   "source": [
    "# Measure agent's average reward\n",
    "\n",
    "s = mdp.reset()\n",
    "rewards = []\n",
    "for _ in range(10000):\n",
    "    s, r, done, _ = mdp.step(\n",
    "        get_optimal_action(mdp, state_values, s, gamma))\n",
    "    rewards.append(r)\n",
    "\n",
    "print(\"average reward: \", np.mean(rewards))\n",
    "\n",
    "assert(0.85 < np.mean(rewards) < 1.0)"
   ]
  },
  {
   "cell_type": "markdown",
   "metadata": {},
   "source": [
    "### Frozen lake"
   ]
  },
  {
   "cell_type": "code",
   "execution_count": 18,
   "metadata": {
    "ExecuteTime": {
     "end_time": "2018-04-02T13:43:17.110991Z",
     "start_time": "2018-04-02T13:43:05.541Z"
    }
   },
   "outputs": [
    {
     "name": "stdout",
     "output_type": "stream",
     "text": [
      "*FFF\n",
      "FHFH\n",
      "FFFH\n",
      "HFFG\n",
      "\n"
     ]
    }
   ],
   "source": [
    "from mdp import FrozenLakeEnv\n",
    "mdp = FrozenLakeEnv(slip_chance=0)\n",
    "\n",
    "mdp.render()"
   ]
  },
  {
   "cell_type": "code",
   "execution_count": 19,
   "metadata": {
    "ExecuteTime": {
     "end_time": "2018-04-02T13:43:17.111919Z",
     "start_time": "2018-04-02T13:43:05.545Z"
    }
   },
   "outputs": [],
   "source": [
    "def value_iteration(mdp, state_values=None, gamma=0.9, num_iter=1000, min_difference=1e-5):\n",
    "    \"\"\" performs num_iter value iteration steps starting from state_values. Same as before but in a function \"\"\"\n",
    "    state_values = state_values or {s: 0 for s in mdp.get_all_states()}\n",
    "    for i in range(num_iter):\n",
    "\n",
    "        # Compute new state values using the functions you defined above. It must be a dict {state : new_V(state)}\n",
    "#         new_state_values = <YOUR CODE HERE >\n",
    "        new_state_values = {\n",
    "            state: get_new_state_value(mdp, state_values, state, gamma) \n",
    "            for state in mdp.get_all_states()}\n",
    "\n",
    "        assert isinstance(new_state_values, dict)\n",
    "\n",
    "        # Compute difference\n",
    "        diff = max(\n",
    "            abs(new_state_values[s] - state_values[s])\n",
    "            for s in mdp.get_all_states())\n",
    "\n",
    "        print(\n",
    "            \"iter %4i   |   diff: %6.5f   |   V(start): %.3f \" %\n",
    "            (i, diff, new_state_values[mdp._initial_state]))\n",
    "\n",
    "        state_values = new_state_values\n",
    "        if diff < min_difference:\n",
    "            break\n",
    "\n",
    "    return state_values"
   ]
  },
  {
   "cell_type": "code",
   "execution_count": 20,
   "metadata": {
    "ExecuteTime": {
     "end_time": "2018-04-02T13:43:17.112871Z",
     "start_time": "2018-04-02T13:43:05.548Z"
    }
   },
   "outputs": [
    {
     "name": "stdout",
     "output_type": "stream",
     "text": [
      "iter    0   |   diff: 1.00000   |   V(start): 0.000 \n",
      "iter    1   |   diff: 0.90000   |   V(start): 0.000 \n",
      "iter    2   |   diff: 0.81000   |   V(start): 0.000 \n",
      "iter    3   |   diff: 0.72900   |   V(start): 0.000 \n",
      "iter    4   |   diff: 0.65610   |   V(start): 0.000 \n",
      "iter    5   |   diff: 0.59049   |   V(start): 0.590 \n",
      "iter    6   |   diff: 0.00000   |   V(start): 0.590 \n"
     ]
    }
   ],
   "source": [
    "state_values = value_iteration(mdp)"
   ]
  },
  {
   "cell_type": "code",
   "execution_count": 21,
   "metadata": {
    "ExecuteTime": {
     "end_time": "2018-04-02T13:43:17.114062Z",
     "start_time": "2018-04-02T13:43:05.552Z"
    }
   },
   "outputs": [
    {
     "name": "stdout",
     "output_type": "stream",
     "text": [
      "*FFF\n",
      "FHFH\n",
      "FFFH\n",
      "HFFG\n",
      "\n",
      "down\n",
      "\n",
      "SFFF\n",
      "*HFH\n",
      "FFFH\n",
      "HFFG\n",
      "\n",
      "down\n",
      "\n",
      "SFFF\n",
      "FHFH\n",
      "*FFH\n",
      "HFFG\n",
      "\n",
      "right\n",
      "\n",
      "SFFF\n",
      "FHFH\n",
      "F*FH\n",
      "HFFG\n",
      "\n",
      "down\n",
      "\n",
      "SFFF\n",
      "FHFH\n",
      "FFFH\n",
      "H*FG\n",
      "\n",
      "right\n",
      "\n",
      "SFFF\n",
      "FHFH\n",
      "FFFH\n",
      "HF*G\n",
      "\n",
      "right\n",
      "\n",
      "SFFF\n",
      "FHFH\n",
      "FFFH\n",
      "HFF*\n",
      "\n"
     ]
    }
   ],
   "source": [
    "s = mdp.reset()\n",
    "mdp.render()\n",
    "for t in range(100):\n",
    "    a = get_optimal_action(mdp, state_values, s, gamma)\n",
    "    print(a, end='\\n\\n')\n",
    "    s, r, done, _ = mdp.step(a)\n",
    "    mdp.render()\n",
    "    if done:\n",
    "        break"
   ]
  },
  {
   "cell_type": "markdown",
   "metadata": {},
   "source": [
    "### Let's visualize!\n",
    "\n",
    "It's usually interesting to see what your algorithm actually learned under the hood. To do so, we'll plot state value functions and optimal actions at each VI step."
   ]
  },
  {
   "cell_type": "code",
   "execution_count": 22,
   "metadata": {
    "ExecuteTime": {
     "end_time": "2018-04-02T13:43:17.115092Z",
     "start_time": "2018-04-02T13:43:05.556Z"
    }
   },
   "outputs": [],
   "source": [
    "import matplotlib.pyplot as plt\n",
    "%matplotlib inline\n",
    "\n",
    "\n",
    "def draw_policy(mdp, state_values):\n",
    "    plt.figure(figsize=(3, 3))\n",
    "    h, w = mdp.desc.shape\n",
    "    states = sorted(mdp.get_all_states())\n",
    "    V = np.array([state_values[s] for s in states])\n",
    "    Pi = {s: get_optimal_action(mdp, state_values, s, gamma) for s in states}\n",
    "    plt.imshow(V.reshape(w, h), cmap='gray', interpolation='none', clim=(0, 1))\n",
    "    ax = plt.gca()\n",
    "    ax.set_xticks(np.arange(h)-.5)\n",
    "    ax.set_yticks(np.arange(w)-.5)\n",
    "    ax.set_xticklabels([])\n",
    "    ax.set_yticklabels([])\n",
    "    Y, X = np.mgrid[0:4, 0:4]\n",
    "    a2uv = {\n",
    "        'left': (-1, 0), \n",
    "        'down': (0, -1), \n",
    "        'right': (1, 0), \n",
    "        'up': (-1, 0)\n",
    "    }\n",
    "    for y in range(h):\n",
    "        for x in range(w):\n",
    "            plt.text(\n",
    "                x, y, str(mdp.desc[y, x].item()),\n",
    "                color='g', size=12,  verticalalignment='center',\n",
    "                horizontalalignment='center', fontweight='bold')\n",
    "            a = Pi[y, x]\n",
    "            if a is None:\n",
    "                continue\n",
    "            u, v = a2uv[a]\n",
    "            plt.arrow(\n",
    "                x, y, u*.3, -v*.3, color='m',\n",
    "                head_width=0.1, head_length=0.1)\n",
    "    plt.grid(color='b', lw=2, ls='-')\n",
    "    plt.show()"
   ]
  },
  {
   "cell_type": "code",
   "execution_count": 23,
   "metadata": {
    "ExecuteTime": {
     "end_time": "2018-04-02T13:43:17.116164Z",
     "start_time": "2018-04-02T13:43:05.560Z"
    }
   },
   "outputs": [
    {
     "name": "stdout",
     "output_type": "stream",
     "text": [
      "after iteration 0\n",
      "iter    0   |   diff: 1.00000   |   V(start): 0.000 \n"
     ]
    },
    {
     "data": {
      "image/png": "[encoded data removed]",
      "text/plain": [
       "<matplotlib.figure.Figure at 0x105f5d278>"
      ]
     },
     "metadata": {},
     "output_type": "display_data"
    },
    {
     "name": "stdout",
     "output_type": "stream",
     "text": [
      "after iteration 1\n",
      "iter    0   |   diff: 0.90000   |   V(start): 0.000 \n"
     ]
    },
    {
     "data": {
      "image/png": "[encoded data removed]",
      "text/plain": [
       "<matplotlib.figure.Figure at 0x10d698748>"
      ]
     },
     "metadata": {},
     "output_type": "display_data"
    },
    {
     "name": "stdout",
     "output_type": "stream",
     "text": [
      "after iteration 2\n",
      "iter    0   |   diff: 0.81000   |   V(start): 0.000 \n"
     ]
    },
    {
     "data": {
      "image/png": "[encoded data removed]",
      "text/plain": [
       "<matplotlib.figure.Figure at 0x10f7a3d68>"
      ]
     },
     "metadata": {},
     "output_type": "display_data"
    },
    {
     "name": "stdout",
     "output_type": "stream",
     "text": [
      "after iteration 3\n",
      "iter    0   |   diff: 0.72900   |   V(start): 0.000 \n"
     ]
    },
    {
     "data": {
      "image/png": "[encoded data removed]",
      "text/plain": [
       "<matplotlib.figure.Figure at 0x10f824048>"
      ]
     },
     "metadata": {},
     "output_type": "display_data"
    },
    {
     "name": "stdout",
     "output_type": "stream",
     "text": [
      "after iteration 4\n",
      "iter    0   |   diff: 0.65610   |   V(start): 0.000 \n"
     ]
    },
    {
     "data": {
      "image/png": "[encoded data removed]",
      "text/plain": [
       "<matplotlib.figure.Figure at 0x10f893eb8>"
      ]
     },
     "metadata": {},
     "output_type": "display_data"
    },
    {
     "name": "stdout",
     "output_type": "stream",
     "text": [
      "after iteration 5\n",
      "iter    0   |   diff: 0.59049   |   V(start): 0.590 \n"
     ]
    },
    {
     "data": {
      "image/png": "[encoded data removed]",
      "text/plain": [
       "<matplotlib.figure.Figure at 0x10f93beb8>"
      ]
     },
     "metadata": {},
     "output_type": "display_data"
    },
    {
     "name": "stdout",
     "output_type": "stream",
     "text": [
      "after iteration 6\n",
      "iter    0   |   diff: 0.00000   |   V(start): 0.590 \n"
     ]
    },
    {
     "data": {
      "image/png": "[encoded data removed]",
      "text/plain": [
       "<matplotlib.figure.Figure at 0x10fa16f28>"
      ]
     },
     "metadata": {},
     "output_type": "display_data"
    },
    {
     "name": "stdout",
     "output_type": "stream",
     "text": [
      "after iteration 7\n",
      "iter    0   |   diff: 0.00000   |   V(start): 0.590 \n"
     ]
    },
    {
     "data": {
      "image/png": "[encoded data removed]",
      "text/plain": [
       "<matplotlib.figure.Figure at 0x10fa0bbe0>"
      ]
     },
     "metadata": {},
     "output_type": "display_data"
    },
    {
     "name": "stdout",
     "output_type": "stream",
     "text": [
      "after iteration 8\n",
      "iter    0   |   diff: 0.00000   |   V(start): 0.590 \n"
     ]
    },
    {
     "data": {
      "image/png": "[encoded data removed]",
      "text/plain": [
       "<matplotlib.figure.Figure at 0x10d67dfd0>"
      ]
     },
     "metadata": {},
     "output_type": "display_data"
    },
    {
     "name": "stdout",
     "output_type": "stream",
     "text": [
      "after iteration 9\n",
      "iter    0   |   diff: 0.00000   |   V(start): 0.590 \n"
     ]
    },
    {
     "data": {
      "image/png": "[encoded data removed]",
      "text/plain": [
       "<matplotlib.figure.Figure at 0x10f98e4a8>"
      ]
     },
     "metadata": {},
     "output_type": "display_data"
    }
   ],
   "source": [
    "state_values = {s: 0 for s in mdp.get_all_states()}\n",
    "\n",
    "for i in range(10):\n",
    "    print(\"after iteration %i\" % i)\n",
    "    state_values = value_iteration(mdp, state_values, num_iter=1)\n",
    "    draw_policy(mdp, state_values)\n",
    "# please ignore iter 0 at each step"
   ]
  },
  {
   "cell_type": "code",
   "execution_count": 24,
   "metadata": {
    "ExecuteTime": {
     "end_time": "2018-04-02T13:43:17.117143Z",
     "start_time": "2018-04-02T13:43:05.563Z"
    }
   },
   "outputs": [
    {
     "name": "stdout",
     "output_type": "stream",
     "text": [
      "after iteration 29\n",
      "iter    0   |   diff: 0.00000   |   V(start): 0.198 \n"
     ]
    },
    {
     "data": {
      "image/png": "[encoded data removed]",
      "text/plain": [
       "<matplotlib.figure.Figure at 0x11000ae10>"
      ]
     },
     "metadata": {},
     "output_type": "display_data"
    }
   ],
   "source": [
    "from IPython.display import clear_output\n",
    "from time import sleep\n",
    "mdp = FrozenLakeEnv(map_name='8x8', slip_chance=0.1)\n",
    "state_values = {s: 0 for s in mdp.get_all_states()}\n",
    "\n",
    "for i in range(30):\n",
    "    clear_output(True)\n",
    "    print(\"after iteration %i\" % i)\n",
    "    state_values = value_iteration(mdp, state_values, num_iter=1)\n",
    "    draw_policy(mdp, state_values)\n",
    "    sleep(0.5)\n",
    "# please ignore iter 0 at each step"
   ]
  },
  {
   "cell_type": "markdown",
   "metadata": {},
   "source": [
    "Massive tests"
   ]
  },
  {
   "cell_type": "code",
   "execution_count": 25,
   "metadata": {
    "ExecuteTime": {
     "end_time": "2018-04-02T13:43:17.118218Z",
     "start_time": "2018-04-02T13:43:05.568Z"
    }
   },
   "outputs": [
    {
     "name": "stdout",
     "output_type": "stream",
     "text": [
      "iter    0   |   diff: 1.00000   |   V(start): 0.000 \n",
      "iter    1   |   diff: 0.90000   |   V(start): 0.000 \n",
      "iter    2   |   diff: 0.81000   |   V(start): 0.000 \n",
      "iter    3   |   diff: 0.72900   |   V(start): 0.000 \n",
      "iter    4   |   diff: 0.65610   |   V(start): 0.000 \n",
      "iter    5   |   diff: 0.59049   |   V(start): 0.590 \n",
      "iter    6   |   diff: 0.00000   |   V(start): 0.590 \n",
      "average reward:  1.0\n",
      "Well done!\n"
     ]
    }
   ],
   "source": [
    "mdp = FrozenLakeEnv(slip_chance=0)\n",
    "state_values = value_iteration(mdp)\n",
    "\n",
    "total_rewards = []\n",
    "for game_i in range(1000):\n",
    "    s = mdp.reset()\n",
    "    rewards = []\n",
    "    for t in range(100):\n",
    "        s, r, done, _ = mdp.step(\n",
    "            get_optimal_action(mdp, state_values, s, gamma))\n",
    "        rewards.append(r)\n",
    "        if done:\n",
    "            break\n",
    "    total_rewards.append(np.sum(rewards))\n",
    "\n",
    "print(\"average reward: \", np.mean(total_rewards))\n",
    "assert(1.0 <= np.mean(total_rewards) <= 1.0)\n",
    "print(\"Well done!\")"
   ]
  },
  {
   "cell_type": "code",
   "execution_count": 26,
   "metadata": {
    "ExecuteTime": {
     "end_time": "2018-04-02T13:43:17.119075Z",
     "start_time": "2018-04-02T13:43:05.571Z"
    }
   },
   "outputs": [
    {
     "name": "stdout",
     "output_type": "stream",
     "text": [
      "iter    0   |   diff: 0.90000   |   V(start): 0.000 \n",
      "iter    1   |   diff: 0.72900   |   V(start): 0.000 \n",
      "iter    2   |   diff: 0.62330   |   V(start): 0.000 \n",
      "iter    3   |   diff: 0.50487   |   V(start): 0.000 \n",
      "iter    4   |   diff: 0.40894   |   V(start): 0.000 \n",
      "iter    5   |   diff: 0.34868   |   V(start): 0.349 \n",
      "iter    6   |   diff: 0.06529   |   V(start): 0.410 \n",
      "iter    7   |   diff: 0.05832   |   V(start): 0.468 \n",
      "iter    8   |   diff: 0.01139   |   V(start): 0.480 \n",
      "iter    9   |   diff: 0.00764   |   V(start): 0.487 \n",
      "iter   10   |   diff: 0.00164   |   V(start): 0.489 \n",
      "iter   11   |   diff: 0.00094   |   V(start): 0.490 \n",
      "iter   12   |   diff: 0.00022   |   V(start): 0.490 \n",
      "iter   13   |   diff: 0.00011   |   V(start): 0.490 \n",
      "iter   14   |   diff: 0.00003   |   V(start): 0.490 \n",
      "iter   15   |   diff: 0.00001   |   V(start): 0.490 \n",
      "iter   16   |   diff: 0.00000   |   V(start): 0.490 \n",
      "average reward:  0.868\n",
      "Well done!\n"
     ]
    }
   ],
   "source": [
    "# Measure agent's average reward\n",
    "mdp = FrozenLakeEnv(slip_chance=0.1)\n",
    "state_values = value_iteration(mdp)\n",
    "\n",
    "total_rewards = []\n",
    "for game_i in range(1000):\n",
    "    s = mdp.reset()\n",
    "    rewards = []\n",
    "    for t in range(100):\n",
    "        s, r, done, _ = mdp.step(\n",
    "            get_optimal_action(mdp, state_values, s, gamma))\n",
    "        rewards.append(r)\n",
    "        if done:\n",
    "            break\n",
    "    total_rewards.append(np.sum(rewards))\n",
    "\n",
    "print(\"average reward: \", np.mean(total_rewards))\n",
    "assert(0.8 <= np.mean(total_rewards) <= 0.95)\n",
    "print(\"Well done!\")"
   ]
  },
  {
   "cell_type": "code",
   "execution_count": 27,
   "metadata": {
    "ExecuteTime": {
     "end_time": "2018-04-02T13:43:17.120316Z",
     "start_time": "2018-04-02T13:43:05.574Z"
    }
   },
   "outputs": [
    {
     "name": "stdout",
     "output_type": "stream",
     "text": [
      "iter    0   |   diff: 0.75000   |   V(start): 0.000 \n",
      "iter    1   |   diff: 0.50625   |   V(start): 0.000 \n",
      "iter    2   |   diff: 0.39867   |   V(start): 0.000 \n",
      "iter    3   |   diff: 0.26910   |   V(start): 0.000 \n",
      "iter    4   |   diff: 0.18164   |   V(start): 0.000 \n",
      "iter    5   |   diff: 0.14013   |   V(start): 0.140 \n",
      "iter    6   |   diff: 0.07028   |   V(start): 0.199 \n",
      "iter    7   |   diff: 0.06030   |   V(start): 0.260 \n",
      "iter    8   |   diff: 0.02594   |   V(start): 0.285 \n",
      "iter    9   |   diff: 0.01918   |   V(start): 0.305 \n",
      "iter   10   |   diff: 0.00858   |   V(start): 0.313 \n",
      "iter   11   |   diff: 0.00560   |   V(start): 0.319 \n",
      "iter   12   |   diff: 0.00260   |   V(start): 0.321 \n",
      "iter   13   |   diff: 0.00159   |   V(start): 0.323 \n",
      "iter   14   |   diff: 0.00076   |   V(start): 0.324 \n",
      "iter   15   |   diff: 0.00045   |   V(start): 0.324 \n",
      "iter   16   |   diff: 0.00022   |   V(start): 0.324 \n",
      "iter   17   |   diff: 0.00012   |   V(start): 0.325 \n",
      "iter   18   |   diff: 0.00006   |   V(start): 0.325 \n",
      "iter   19   |   diff: 0.00003   |   V(start): 0.325 \n",
      "iter   20   |   diff: 0.00002   |   V(start): 0.325 \n",
      "iter   21   |   diff: 0.00001   |   V(start): 0.325 \n",
      "average reward:  0.663\n",
      "Well done!\n"
     ]
    }
   ],
   "source": [
    "# Measure agent's average reward\n",
    "mdp = FrozenLakeEnv(slip_chance=0.25)\n",
    "state_values = value_iteration(mdp)\n",
    "\n",
    "total_rewards = []\n",
    "for game_i in range(1000):\n",
    "    s = mdp.reset()\n",
    "    rewards = []\n",
    "    for t in range(100):\n",
    "        s, r, done, _ = mdp.step(\n",
    "            get_optimal_action(mdp, state_values, s, gamma))\n",
    "        rewards.append(r)\n",
    "        if done:\n",
    "            break\n",
    "    total_rewards.append(np.sum(rewards))\n",
    "\n",
    "print(\"average reward: \", np.mean(total_rewards))\n",
    "assert(0.6 <= np.mean(total_rewards) <= 0.7)\n",
    "print(\"Well done!\")"
   ]
  },
  {
   "cell_type": "code",
   "execution_count": 28,
   "metadata": {
    "ExecuteTime": {
     "end_time": "2018-04-02T13:43:17.121544Z",
     "start_time": "2018-04-02T13:43:05.578Z"
    }
   },
   "outputs": [
    {
     "name": "stdout",
     "output_type": "stream",
     "text": [
      "iter    0   |   diff: 0.80000   |   V(start): 0.000 \n",
      "iter    1   |   diff: 0.57600   |   V(start): 0.000 \n",
      "iter    2   |   diff: 0.41472   |   V(start): 0.000 \n",
      "iter    3   |   diff: 0.29860   |   V(start): 0.000 \n",
      "iter    4   |   diff: 0.24186   |   V(start): 0.000 \n",
      "iter    5   |   diff: 0.19349   |   V(start): 0.000 \n",
      "iter    6   |   diff: 0.15325   |   V(start): 0.000 \n",
      "iter    7   |   diff: 0.12288   |   V(start): 0.000 \n",
      "iter    8   |   diff: 0.09930   |   V(start): 0.000 \n",
      "iter    9   |   diff: 0.08037   |   V(start): 0.000 \n",
      "iter   10   |   diff: 0.06426   |   V(start): 0.000 \n",
      "iter   11   |   diff: 0.05129   |   V(start): 0.000 \n",
      "iter   12   |   diff: 0.04330   |   V(start): 0.000 \n",
      "iter   13   |   diff: 0.03802   |   V(start): 0.033 \n",
      "iter   14   |   diff: 0.03332   |   V(start): 0.058 \n",
      "iter   15   |   diff: 0.02910   |   V(start): 0.087 \n",
      "iter   16   |   diff: 0.01855   |   V(start): 0.106 \n",
      "iter   17   |   diff: 0.01403   |   V(start): 0.120 \n",
      "iter   18   |   diff: 0.00810   |   V(start): 0.128 \n",
      "iter   19   |   diff: 0.00555   |   V(start): 0.133 \n",
      "iter   20   |   diff: 0.00321   |   V(start): 0.137 \n",
      "iter   21   |   diff: 0.00247   |   V(start): 0.138 \n",
      "iter   22   |   diff: 0.00147   |   V(start): 0.139 \n",
      "iter   23   |   diff: 0.00104   |   V(start): 0.140 \n",
      "iter   24   |   diff: 0.00058   |   V(start): 0.140 \n",
      "iter   25   |   diff: 0.00036   |   V(start): 0.141 \n",
      "iter   26   |   diff: 0.00024   |   V(start): 0.141 \n",
      "iter   27   |   diff: 0.00018   |   V(start): 0.141 \n",
      "iter   28   |   diff: 0.00012   |   V(start): 0.141 \n",
      "iter   29   |   diff: 0.00007   |   V(start): 0.141 \n",
      "iter   30   |   diff: 0.00004   |   V(start): 0.141 \n",
      "iter   31   |   diff: 0.00003   |   V(start): 0.141 \n",
      "iter   32   |   diff: 0.00001   |   V(start): 0.141 \n",
      "iter   33   |   diff: 0.00001   |   V(start): 0.141 \n",
      "average reward:  0.755\n",
      "Well done!\n"
     ]
    }
   ],
   "source": [
    "# Measure agent's average reward\n",
    "mdp = FrozenLakeEnv(slip_chance=0.2, map_name='8x8')\n",
    "state_values = value_iteration(mdp)\n",
    "\n",
    "total_rewards = []\n",
    "for game_i in range(1000):\n",
    "    s = mdp.reset()\n",
    "    rewards = []\n",
    "    for t in range(100):\n",
    "        s, r, done, _ = mdp.step(\n",
    "            get_optimal_action(mdp, state_values, s, gamma))\n",
    "        rewards.append(r)\n",
    "        if done:\n",
    "            break\n",
    "    total_rewards.append(np.sum(rewards))\n",
    "\n",
    "print(\"average reward: \", np.mean(total_rewards))\n",
    "assert(0.6 <= np.mean(total_rewards) <= 0.8)\n",
    "print(\"Well done!\")"
   ]
  },
  {
   "cell_type": "markdown",
   "metadata": {},
   "source": [
    "###  *** Policy Iteration\n",
    "\n",
    "Let's implement exact policy iteration (PI), which has the following pseudocode:\n",
    "\n",
    "---\n",
    "Initialize $\\pi_0$   `// random or fixed action`\n",
    "\n",
    "For $n=0, 1, 2, \\dots$\n",
    "- Compute the state-value function $V^{\\pi_{n}}$\n",
    "- Using $V^{\\pi_{n}}$, compute the state-action-value function $Q^{\\pi_{n}}$\n",
    "- Compute new policy $\\pi_{n+1}(s) = \\operatorname*{argmax}_a Q^{\\pi_{n}}(s,a)$\n",
    "---\n",
    "\n",
    "Unlike VI, policy iteration has to maintain a policy - chosen actions from all states - and estimate $V^{\\pi_{n}}$ based on this policy. It only changes policy once values converged.\n",
    "\n",
    "\n",
    "Below are a few helpers that you may or may not use in your implementation."
   ]
  },
  {
   "cell_type": "code",
   "execution_count": 29,
   "metadata": {
    "ExecuteTime": {
     "end_time": "2018-04-02T13:43:17.125320Z",
     "start_time": "2018-04-02T13:43:05.590Z"
    }
   },
   "outputs": [],
   "source": [
    "transition_probs = {\n",
    "    's0': {\n",
    "        'a0': {'s0': 0.5, 's2': 0.5},\n",
    "        'a1': {'s2': 1}\n",
    "    },\n",
    "    's1': {\n",
    "        'a0': {'s0': 0.7, 's1': 0.1, 's2': 0.2},\n",
    "        'a1': {'s1': 0.95, 's2': 0.05}\n",
    "    },\n",
    "    's2': {\n",
    "        'a0': {'s0': 0.4, 's1': 0.6},\n",
    "        'a1': {'s0': 0.3, 's1': 0.3, 's2': 0.4}\n",
    "    }\n",
    "}\n",
    "rewards = {\n",
    "    's1': {'a0': {'s0': +5}},\n",
    "    's2': {'a1': {'s0': -1}}\n",
    "}\n",
    "\n",
    "from mdp import MDP\n",
    "mdp = MDP(transition_probs, rewards, initial_state='s0')"
   ]
  },
  {
   "cell_type": "markdown",
   "metadata": {},
   "source": [
    "Let's write a function called `compute_vpi` that computes the state-value function $V^{\\pi}$ for an arbitrary policy $\\pi$.\n",
    "\n",
    "Unlike VI, this time you must find the exact solution, not just a single iteration.\n",
    "\n",
    "Recall that $V^{\\pi}$ satisfies the following linear equation:\n",
    "$$V^{\\pi}(s) = \\sum_{s'} P(s,\\pi(s),s')[ R(s,\\pi(s),s') + \\gamma V^{\\pi}(s')]$$\n",
    "\n",
    "You'll have to solve a linear system in your code. (Find an exact solution, e.g., with `np.linalg.solve`.)"
   ]
  },
  {
   "cell_type": "code",
   "execution_count": 30,
   "metadata": {
    "ExecuteTime": {
     "end_time": "2018-04-02T13:43:17.126518Z",
     "start_time": "2018-04-02T13:43:05.593Z"
    }
   },
   "outputs": [],
   "source": [
    "def compute_vpi(mdp, policy, gamma):\n",
    "    \"\"\"\n",
    "    Computes V^pi(s) FOR ALL STATES under given policy.\n",
    "    :param policy: a dict of currently chosen actions {s : a}\n",
    "    :returns: a dict {state : V^pi(state) for all states}\n",
    "    \"\"\"\n",
    "    # YOUR CODE HERE\n",
    "    s2i = {s: i for i, s in enumerate(policy)}\n",
    "    n = len(s2i)\n",
    "    A = np.zeros((n, n))\n",
    "    b = np.zeros(n)\n",
    "\n",
    "    for state_i, (state, action) in enumerate(policy.items()):\n",
    "        A[state_i][state_i] = 1.0\n",
    "\n",
    "        for next_state in mdp.get_next_states(state, action):\n",
    "            p = mdp.get_transition_prob(state, action, next_state)\n",
    "            r = mdp.get_reward(state, action, next_state)\n",
    "            b[state_i] += p * r\n",
    "            A[state_i][s2i[next_state]] -= p * gamma\n",
    "\n",
    "    solution = np.linalg.solve(A, b)\n",
    "    V = np.linalg.solve(A, b)\n",
    "    assert np.allclose(np.dot(A, V), b)\n",
    "    \n",
    "    vpi = {\n",
    "        s: V[i]\n",
    "        for s, i in s2i.items()\n",
    "    }\n",
    "\n",
    "    return vpi\n"
   ]
  },
  {
   "cell_type": "code",
   "execution_count": 31,
   "metadata": {
    "ExecuteTime": {
     "end_time": "2018-04-02T13:43:17.127349Z",
     "start_time": "2018-04-02T13:43:05.597Z"
    }
   },
   "outputs": [
    {
     "name": "stdout",
     "output_type": "stream",
     "text": [
      "{'s0': 3.789948615114679, 's1': 7.3029201654342675, 's2': 4.211054016794088}\n"
     ]
    }
   ],
   "source": [
    "test_policy = {\n",
    "    s: np.random.choice(mdp.get_possible_actions(s)) \n",
    "    for s in mdp.get_all_states()}\n",
    "new_vpi = compute_vpi(mdp, test_policy, gamma)\n",
    "\n",
    "print(new_vpi)\n",
    "\n",
    "assert type(new_vpi) is dict, \\\n",
    "    \"compute_vpi must return a dict {state : V^pi(state) for all states}\""
   ]
  },
  {
   "cell_type": "markdown",
   "metadata": {},
   "source": [
    "Once we've got new state values, it's time to update our policy."
   ]
  },
  {
   "cell_type": "code",
   "execution_count": 32,
   "metadata": {
    "ExecuteTime": {
     "end_time": "2018-04-02T13:43:17.128415Z",
     "start_time": "2018-04-02T13:43:05.601Z"
    }
   },
   "outputs": [],
   "source": [
    "def compute_new_policy(mdp, vpi, gamma):\n",
    "    \"\"\"\n",
    "    Computes new policy as argmax of state values\n",
    "    :param vpi: a dict {state : V^pi(state) for all states}\n",
    "    :returns: a dict {state : optimal action for all states}\n",
    "    \"\"\"\n",
    "#     <YOUR CODE >\n",
    "    actions = {\n",
    "        s: get_optimal_action(mdp, vpi, s, gamma)\n",
    "        for s in vpi\n",
    "    }\n",
    "    return actions"
   ]
  },
  {
   "cell_type": "code",
   "execution_count": 33,
   "metadata": {
    "ExecuteTime": {
     "end_time": "2018-04-02T13:43:17.129416Z",
     "start_time": "2018-04-02T13:43:05.604Z"
    }
   },
   "outputs": [
    {
     "name": "stdout",
     "output_type": "stream",
     "text": [
      "{'s0': 'a1', 's1': 'a0', 's2': 'a0'}\n"
     ]
    }
   ],
   "source": [
    "new_policy = compute_new_policy(mdp, new_vpi, gamma)\n",
    "\n",
    "print(new_policy)\n",
    "\n",
    "assert type(new_policy) is dict, \\\n",
    "    \"compute_new_policy must return a dict {state : optimal action for all states}\""
   ]
  },
  {
   "cell_type": "markdown",
   "metadata": {},
   "source": [
    "__Main loop__"
   ]
  },
  {
   "cell_type": "code",
   "execution_count": 34,
   "metadata": {
    "ExecuteTime": {
     "end_time": "2018-04-02T13:43:17.130183Z",
     "start_time": "2018-04-02T13:43:05.608Z"
    }
   },
   "outputs": [],
   "source": [
    "def policy_iteration(mdp, policy=None, gamma=0.9, num_iter=1000, min_difference=1e-5):\n",
    "    \"\"\" \n",
    "    Run the policy iteration loop for num_iter iterations or till difference between V(s) is below min_difference.\n",
    "    If policy is not given, initialize it at random.\n",
    "    \"\"\"\n",
    "#     < A WHOLE LOT OF YOUR CODE >\n",
    "    if policy is None:\n",
    "        policy = {\n",
    "            s: np.random.choice(mdp.get_possible_actions(s))\n",
    "            for s in mdp.get_all_states()\n",
    "            if len(mdp.get_possible_actions(s)) > 0}\n",
    "\n",
    "    vpi = compute_vpi(mdp, policy, gamma)\n",
    "    for it in range(num_iter):\n",
    "        new_policy = compute_new_policy(mdp, vpi, gamma)\n",
    "        new_vpi = compute_vpi(mdp, new_policy, gamma)\n",
    "\n",
    "        diff = max(\n",
    "            abs(new_vpi[s] - vpi[s]) \n",
    "            for s in vpi)\n",
    "\n",
    "        print(\n",
    "            \"iter %4i   |   diff: %6.5f   |   V(start): %.3f  \" \\\n",
    "            % (it, diff, new_vpi[mdp._initial_state]))\n",
    "\n",
    "        vpi = new_vpi\n",
    "        policy = new_policy\n",
    "        if diff < min_difference:\n",
    "            break\n",
    "\n",
    "    return vpi, policy"
   ]
  },
  {
   "cell_type": "markdown",
   "metadata": {},
   "source": [
    "__Your PI Results__"
   ]
  },
  {
   "cell_type": "code",
   "execution_count": 35,
   "metadata": {},
   "outputs": [
    {
     "name": "stdout",
     "output_type": "stream",
     "text": [
      "iter    0   |   diff: 5.45328   |   V(start): 8.032  \n",
      "iter    1   |   diff: 0.00000   |   V(start): 8.032  \n"
     ]
    }
   ],
   "source": [
    "state_values, policy = policy_iteration(mdp)"
   ]
  },
  {
   "cell_type": "code",
   "execution_count": 39,
   "metadata": {},
   "outputs": [
    {
     "data": {
      "text/plain": [
       "('left', 'down', 'right', 'up')"
      ]
     },
     "execution_count": 39,
     "metadata": {},
     "output_type": "execute_result"
    }
   ],
   "source": [
    "mdp.get_possible_actions((0, 0))"
   ]
  },
  {
   "cell_type": "code",
   "execution_count": 40,
   "metadata": {},
   "outputs": [
    {
     "ename": "AssertionError",
     "evalue": "cannot do action a1 from state s0",
     "output_type": "error",
     "traceback": [
      "\u001b[0;31m---------------------------------------------------------------------------\u001b[0m",
      "\u001b[0;31mAssertionError\u001b[0m                            Traceback (most recent call last)",
      "\u001b[0;32m<ipython-input-40-9f50baf058d2>\u001b[0m in \u001b[0;36m<module>\u001b[0;34m()\u001b[0m\n\u001b[1;32m      7\u001b[0m     \u001b[0;32mif\u001b[0m \u001b[0mlen\u001b[0m\u001b[0;34m(\u001b[0m\u001b[0mmdp\u001b[0m\u001b[0;34m.\u001b[0m\u001b[0mget_possible_actions\u001b[0m\u001b[0;34m(\u001b[0m\u001b[0ms\u001b[0m\u001b[0;34m)\u001b[0m\u001b[0;34m)\u001b[0m \u001b[0;34m>\u001b[0m \u001b[0;36m0\u001b[0m\u001b[0;34m\u001b[0m\u001b[0;34m\u001b[0m\u001b[0m\n\u001b[1;32m      8\u001b[0m }\n\u001b[0;32m----> 9\u001b[0;31m \u001b[0mstate_values\u001b[0m \u001b[0;34m=\u001b[0m \u001b[0mcompute_vpi\u001b[0m\u001b[0;34m(\u001b[0m\u001b[0mmdp\u001b[0m\u001b[0;34m,\u001b[0m \u001b[0mtest_policy\u001b[0m\u001b[0;34m,\u001b[0m \u001b[0mgamma\u001b[0m\u001b[0;34m)\u001b[0m\u001b[0;34m\u001b[0m\u001b[0;34m\u001b[0m\u001b[0m\n\u001b[0m\u001b[1;32m     10\u001b[0m \u001b[0mpolicy\u001b[0m \u001b[0;34m=\u001b[0m \u001b[0mcompute_new_policy\u001b[0m\u001b[0;34m(\u001b[0m\u001b[0mmdp\u001b[0m\u001b[0;34m,\u001b[0m \u001b[0mnew_vpi\u001b[0m\u001b[0;34m,\u001b[0m \u001b[0mgamma\u001b[0m\u001b[0;34m)\u001b[0m\u001b[0;34m\u001b[0m\u001b[0;34m\u001b[0m\u001b[0m\n\u001b[1;32m     11\u001b[0m \u001b[0;34m\u001b[0m\u001b[0m\n",
      "\u001b[0;32m<ipython-input-30-595eb68c46fd>\u001b[0m in \u001b[0;36mcompute_vpi\u001b[0;34m(mdp, policy, gamma)\u001b[0m\n\u001b[1;32m     14\u001b[0m         \u001b[0mA\u001b[0m\u001b[0;34m[\u001b[0m\u001b[0mstate_i\u001b[0m\u001b[0;34m]\u001b[0m\u001b[0;34m[\u001b[0m\u001b[0mstate_i\u001b[0m\u001b[0;34m]\u001b[0m \u001b[0;34m=\u001b[0m \u001b[0;36m1.0\u001b[0m\u001b[0;34m\u001b[0m\u001b[0;34m\u001b[0m\u001b[0m\n\u001b[1;32m     15\u001b[0m \u001b[0;34m\u001b[0m\u001b[0m\n\u001b[0;32m---> 16\u001b[0;31m         \u001b[0;32mfor\u001b[0m \u001b[0mnext_state\u001b[0m \u001b[0;32min\u001b[0m \u001b[0mmdp\u001b[0m\u001b[0;34m.\u001b[0m\u001b[0mget_next_states\u001b[0m\u001b[0;34m(\u001b[0m\u001b[0mstate\u001b[0m\u001b[0;34m,\u001b[0m \u001b[0maction\u001b[0m\u001b[0;34m)\u001b[0m\u001b[0;34m:\u001b[0m\u001b[0;34m\u001b[0m\u001b[0;34m\u001b[0m\u001b[0m\n\u001b[0m\u001b[1;32m     17\u001b[0m             \u001b[0mp\u001b[0m \u001b[0;34m=\u001b[0m \u001b[0mmdp\u001b[0m\u001b[0;34m.\u001b[0m\u001b[0mget_transition_prob\u001b[0m\u001b[0;34m(\u001b[0m\u001b[0mstate\u001b[0m\u001b[0;34m,\u001b[0m \u001b[0maction\u001b[0m\u001b[0;34m,\u001b[0m \u001b[0mnext_state\u001b[0m\u001b[0;34m)\u001b[0m\u001b[0;34m\u001b[0m\u001b[0;34m\u001b[0m\u001b[0m\n\u001b[1;32m     18\u001b[0m             \u001b[0mr\u001b[0m \u001b[0;34m=\u001b[0m \u001b[0mmdp\u001b[0m\u001b[0;34m.\u001b[0m\u001b[0mget_reward\u001b[0m\u001b[0;34m(\u001b[0m\u001b[0mstate\u001b[0m\u001b[0;34m,\u001b[0m \u001b[0maction\u001b[0m\u001b[0;34m,\u001b[0m \u001b[0mnext_state\u001b[0m\u001b[0;34m)\u001b[0m\u001b[0;34m\u001b[0m\u001b[0;34m\u001b[0m\u001b[0m\n",
      "\u001b[0;32m~/Documents/tmp/rl_seminar/mdp.py\u001b[0m in \u001b[0;36mget_next_states\u001b[0;34m(self, state, action)\u001b[0m\n\u001b[1;32m     82\u001b[0m         \u001b[0;34m\"\"\" return a dictionary of {next_state1 : P(next_state1 | state, action), next_state2: ...} \"\"\"\u001b[0m\u001b[0;34m\u001b[0m\u001b[0;34m\u001b[0m\u001b[0m\n\u001b[1;32m     83\u001b[0m         assert action in self.get_possible_actions(\n\u001b[0;32m---> 84\u001b[0;31m             state), \"cannot do action %s from state %s\" % (action, state)\n\u001b[0m\u001b[1;32m     85\u001b[0m         \u001b[0;32mreturn\u001b[0m \u001b[0mself\u001b[0m\u001b[0;34m.\u001b[0m\u001b[0m_transition_probs\u001b[0m\u001b[0;34m[\u001b[0m\u001b[0mstate\u001b[0m\u001b[0;34m]\u001b[0m\u001b[0;34m[\u001b[0m\u001b[0maction\u001b[0m\u001b[0;34m]\u001b[0m\u001b[0;34m\u001b[0m\u001b[0;34m\u001b[0m\u001b[0m\n\u001b[1;32m     86\u001b[0m \u001b[0;34m\u001b[0m\u001b[0m\n",
      "\u001b[0;31mAssertionError\u001b[0m: cannot do action a1 from state s0"
     ]
    }
   ],
   "source": [
    "from IPython.display import clear_output\n",
    "from time import sleep\n",
    "mdp = FrozenLakeEnv(map_name='8x8', slip_chance=0.1)\n",
    "policy = {\n",
    "    s: np.random.choice(mdp.get_possible_actions(s)) \n",
    "    for s in mdp.get_all_states()\n",
    "    if len(mdp.get_possible_actions(s)) > 0\n",
    "}\n",
    "state_values = compute_vpi(mdp, test_policy, gamma)\n",
    "policy = compute_new_policy(mdp, new_vpi, gamma)\n",
    "\n",
    "for i in range(30):\n",
    "    clear_output(True)\n",
    "    print(\"after iteration %i\" % i)\n",
    "    state_values, policy = policy_iteration(mdp, policy)\n",
    "    draw_policy(mdp, state_values)\n",
    "    sleep(0.5)\n",
    "# please ignore iter 0 at each step"
   ]
  },
  {
   "cell_type": "code",
   "execution_count": 36,
   "metadata": {
    "ExecuteTime": {
     "end_time": "2018-04-02T13:43:17.130926Z",
     "start_time": "2018-04-02T13:43:05.612Z"
    }
   },
   "outputs": [
    {
     "ename": "SyntaxError",
     "evalue": "invalid syntax (<ipython-input-36-ffdb586f62f8>, line 1)",
     "output_type": "error",
     "traceback": [
      "\u001b[0;36m  File \u001b[0;32m\"<ipython-input-36-ffdb586f62f8>\"\u001b[0;36m, line \u001b[0;32m1\u001b[0m\n\u001b[0;31m    < Compare PI and VI on the MDP from bonus 1, then on small & large FrozenLake >\u001b[0m\n\u001b[0m    ^\u001b[0m\n\u001b[0;31mSyntaxError\u001b[0m\u001b[0;31m:\u001b[0m invalid syntax\n"
     ]
    }
   ],
   "source": [
    "# < Compare PI and VI on the MDP from bonus 1, then on small & large FrozenLake >"
   ]
  }
 ],
 "metadata": {
  "kernelspec": {
   "display_name": "Python 3",
   "language": "python",
   "name": "python3"
  },
  "language_info": {
   "codemirror_mode": {
    "name": "ipython",
    "version": 3
   },
   "file_extension": ".py",
   "mimetype": "text/x-python",
   "name": "python",
   "nbconvert_exporter": "python",
   "pygments_lexer": "ipython3",
   "version": "3.7.0"
  }
 },
 "nbformat": 4,
 "nbformat_minor": 2
}
