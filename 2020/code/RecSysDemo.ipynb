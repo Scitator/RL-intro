{
 "cells": [
  {
   "cell_type": "markdown",
   "metadata": {},
   "source": [
    "## Recommendations tutorial\n",
    "\n",
    "In this tutorial we will learn and compare two basic recommendation algorithms:\n",
    "1. [FunkSvd](https://medium.com/datadriveninvestor/how-funk-singular-value-decomposition-algorithm-work-in-recommendation-engines-36f2fbf62cac)\n",
    "2. [Neural Collaborative Filtering](https://arxiv.org/abs/1708.05031)\n",
    "\n",
    "This is a minimal demo adapted from https://github.com/guoyang9/NCF"
   ]
  },
  {
   "cell_type": "code",
   "execution_count": 1,
   "metadata": {},
   "outputs": [],
   "source": [
    "%matplotlib inline"
   ]
  },
  {
   "cell_type": "code",
   "execution_count": 2,
   "metadata": {},
   "outputs": [],
   "source": [
    "import time\n",
    "import os\n",
    "import requests\n",
    "import tqdm\n",
    "\n",
    "import numpy as np\n",
    "import pandas as pd\n",
    "import scipy.sparse as sp\n",
    "\n",
    "import torch\n",
    "import torch.nn as nn\n",
    "import torch.nn.functional as F \n",
    "import torch.utils.data as td\n",
    "import torch.optim as to\n",
    "\n",
    "import matplotlib.pyplot as pl\n",
    "import seaborn as sns"
   ]
  },
  {
   "cell_type": "code",
   "execution_count": 3,
   "metadata": {},
   "outputs": [],
   "source": [
    "# Configuration\n",
    "\n",
    "# The directory to store the data\n",
    "data_dir = \"data\"\n",
    "\n",
    "train_rating = \"ml-1m.train.rating\"\n",
    "test_negative = \"ml-1m.test.negative\"\n",
    "\n",
    "# NCF config\n",
    "train_negative_samples = 4\n",
    "test_negative_samples = 99\n",
    "embedding_dim = 64\n",
    "hidden_dim = 32\n",
    "\n",
    "# Training config\n",
    "batch_size = 256\n",
    "epochs = 10  # Original implementation uses 20\n",
    "top_k=10\n",
    "\n",
    "device = torch.device(\"cuda\" if torch.cuda.is_available() else \"cpu\")"
   ]
  },
  {
   "cell_type": "markdown",
   "metadata": {},
   "source": [
    "### Download and preprocess the data\n",
    "\n",
    "Use Movielens 1M data from the NCF paper authors' implementation https://github.com/hexiangnan/neural_collaborative_filtering"
   ]
  },
  {
   "cell_type": "code",
   "execution_count": 4,
   "metadata": {},
   "outputs": [
    {
     "name": "stdout",
     "output_type": "stream",
     "text": [
      "Skip loading ml-1m.train.rating\n",
      "Skip loading ml-1m.test.negative\n"
     ]
    }
   ],
   "source": [
    "if not os.path.exists(data_dir):\n",
    "    os.mkdir(data_dir)\n",
    "    \n",
    "for file_name in [train_rating, test_negative]:\n",
    "    file_path = os.path.join(data_dir, file_name)\n",
    "    if os.path.exists(file_path):\n",
    "        print(\"Skip loading \" + file_name)\n",
    "        continue\n",
    "    with open(file_path, \"wb\") as tf:\n",
    "        print(\"Load \" + file_name)\n",
    "        r = requests.get(\"https://raw.githubusercontent.com/hexiangnan/neural_collaborative_filtering/master/Data/\" + file_name, allow_redirects=True)\n",
    "        tf.write(r.content)"
   ]
  },
  {
   "cell_type": "code",
   "execution_count": 5,
   "metadata": {},
   "outputs": [],
   "source": [
    "def preprocess_train():\n",
    "    train_data = pd.read_csv(os.path.join(data_dir, train_rating), sep='\\t', header=None, names=['user', 'item'], usecols=[0, 1], dtype={0: np.int32, 1: np.int32})\n",
    "\n",
    "    user_num = train_data['user'].max() + 1\n",
    "    item_num = train_data['item'].max() + 1\n",
    "\n",
    "    train_data = train_data.values.tolist()\n",
    "\n",
    "    # Convert ratings as a dok matrix\n",
    "    train_mat = sp.dok_matrix((user_num, item_num), dtype=np.float32)\n",
    "    for user, item in train_data:\n",
    "        train_mat[user, item] = 1.0\n",
    "        \n",
    "    return train_data, train_mat, user_num, item_num\n",
    "\n",
    "\n",
    "train_data, train_mat, user_num, item_num = preprocess_train()"
   ]
  },
  {
   "cell_type": "code",
   "execution_count": 6,
   "metadata": {},
   "outputs": [],
   "source": [
    "def preprocess_test():\n",
    "    test_data = []\n",
    "    with open(os.path.join(data_dir, test_negative)) as tnf:\n",
    "        for line in tnf:\n",
    "            parts = line.split('\\t')\n",
    "            assert len(parts) == test_negative_samples + 1\n",
    "            \n",
    "            user, positive = eval(parts[0])\n",
    "            test_data.append([user, positive])\n",
    "            \n",
    "            for negative in parts[1:]:\n",
    "                test_data.append([user, int(negative)])\n",
    "\n",
    "    return test_data\n",
    "\n",
    "\n",
    "test_data = preprocess_test()"
   ]
  },
  {
   "cell_type": "markdown",
   "metadata": {},
   "source": [
    "### Pytorch dataset"
   ]
  },
  {
   "cell_type": "code",
   "execution_count": 7,
   "metadata": {},
   "outputs": [],
   "source": [
    "class NCFDataset(td.Dataset):\n",
    "    \n",
    "    def __init__(self, positive_data, item_num, positive_mat, negative_samples=0):\n",
    "        super(NCFDataset, self).__init__()\n",
    "        self.positive_data = positive_data\n",
    "        self.item_num = item_num\n",
    "        self.positive_mat = positive_mat\n",
    "        self.negative_samples = negative_samples\n",
    "        \n",
    "        self.reset()\n",
    "        \n",
    "    def reset(self):\n",
    "        print(\"Resetting dataset\")\n",
    "        if self.negative_samples > 0:\n",
    "            negative_data = self.sample_negatives()\n",
    "            data = self.positive_data + negative_data\n",
    "            labels = [1] * len(self.positive_data) + [0] * len(negative_data)\n",
    "        else:\n",
    "            data = self.positive_data\n",
    "            labels = [0] * len(self.positive_data)\n",
    "            \n",
    "        self.data = np.concatenate([np.array(data), np.array(labels)[:, np.newaxis]], axis=1)\n",
    "        \n",
    "\n",
    "    def sample_negatives(self):\n",
    "        negative_data = []\n",
    "        for user, positive in self.positive_data:\n",
    "            for _ in range(self.negative_samples):\n",
    "                negative = np.random.randint(self.item_num)\n",
    "                while (user, negative) in self.positive_mat:\n",
    "                    negative = np.random.randint(self.item_num)\n",
    "                    \n",
    "                negative_data.append([user, negative])\n",
    "\n",
    "        return negative_data\n",
    "\n",
    "    def __len__(self):\n",
    "        return len(self.data)\n",
    "\n",
    "    def __getitem__(self, idx):\n",
    "        user, item, label = self.data[idx]\n",
    "        return user, item, label"
   ]
  },
  {
   "cell_type": "markdown",
   "metadata": {},
   "source": [
    "### Implement recommendation models in Pytorch\n",
    "\n",
    "Because this is what people do in 2020"
   ]
  },
  {
   "cell_type": "code",
   "execution_count": 8,
   "metadata": {},
   "outputs": [],
   "source": [
    "class Ncf(nn.Module):\n",
    "    \n",
    "    def __init__(self, user_num, item_num, embedding_dim, hidden_dim):\n",
    "        super(Ncf, self).__init__()\n",
    "        \n",
    "        self.user_embeddings = nn.Embedding(user_num, embedding_dim)\n",
    "        self.item_embeddings = nn.Embedding(item_num, embedding_dim)\n",
    "\n",
    "        self.layers = nn.Sequential(\n",
    "            nn.Linear(2 * embedding_dim, hidden_dim),\n",
    "            nn.ReLU(),\n",
    "            nn.Linear(hidden_dim, hidden_dim),\n",
    "            nn.ReLU(),\n",
    "            nn.Linear(hidden_dim, 1)\n",
    "        )\n",
    "\n",
    "        self.initialize()\n",
    "\n",
    "    def initialize(self):\n",
    "        nn.init.normal_(self.user_embeddings.weight, std=0.01)\n",
    "        nn.init.normal_(self.item_embeddings.weight, std=0.01)\n",
    "\n",
    "        for layer in self.layers:\n",
    "            if isinstance(layer, nn.Linear):\n",
    "                nn.init.xavier_uniform_(layer.weight)\n",
    "                layer.bias.data.zero_()\n",
    "            \n",
    "    def forward(self, user, item):\n",
    "        user_embedding = self.user_embeddings(user)\n",
    "        item_embedding = self.item_embeddings(item)\n",
    "        concat = torch.cat((user_embedding, item_embedding), -1)\n",
    "        return self.layers(concat).view(-1)\n",
    "    \n",
    "    def name(self):\n",
    "        return \"Ncf\""
   ]
  },
  {
   "cell_type": "code",
   "execution_count": 9,
   "metadata": {},
   "outputs": [],
   "source": [
    "class FunkSvd(nn.Module):\n",
    "    \n",
    "    def __init__(self, user_num, item_num, embedding_dim):\n",
    "        super(FunkSvd, self).__init__()\n",
    "        \n",
    "        self.user_embeddings = nn.Embedding(user_num, embedding_dim)\n",
    "        self.item_embeddings = nn.Embedding(item_num, embedding_dim)\n",
    "        \n",
    "        self.user_bias = nn.Embedding(user_num, 1)\n",
    "        self.item_bias = nn.Embedding(item_num, 1)\n",
    "        \n",
    "        self.bias = torch.nn.Parameter(torch.tensor(0.0))\n",
    "\n",
    "        self.initialize()\n",
    "\n",
    "    def initialize(self):\n",
    "        nn.init.normal_(self.user_embeddings.weight, std=0.01)\n",
    "        nn.init.normal_(self.item_embeddings.weight, std=0.01)\n",
    "        nn.init.normal_(self.user_bias.weight, std=0.01)\n",
    "        nn.init.normal_(self.item_bias.weight, std=0.01)\n",
    "            \n",
    "    def forward(self, user, item):\n",
    "        user_embedding = self.user_embeddings(user)\n",
    "        user_bias = self.user_bias(user).view(-1)\n",
    "        item_embedding = self.item_embeddings(item)\n",
    "        item_bias = self.item_bias(item).view(-1)\n",
    "        dot = (user_embedding * item_embedding).sum(1)\n",
    "        return dot + user_bias + item_bias + self.bias\n",
    "    \n",
    "    def name(self):\n",
    "        return \"FunkSvd\""
   ]
  },
  {
   "cell_type": "markdown",
   "metadata": {},
   "source": [
    "### Metrics\n",
    "\n",
    "- mean hit rate @K \n",
    "- mean DCG @K\n",
    "\n",
    "Test data is organized as a sequence `user -> [positive_item, negative_item_1, ..., negative_item_99]`. Each batch in the test loader contains the data for a single user in the same order."
   ]
  },
  {
   "cell_type": "code",
   "execution_count": 10,
   "metadata": {},
   "outputs": [],
   "source": [
    "def hit_metric(actual, recommended):\n",
    "    return int(actual in recommended)\n",
    "\n",
    "\n",
    "def dcg_metric(actual, recommended):\n",
    "    if actual in recommended:\n",
    "        index = recommended.index(actual)\n",
    "        return np.reciprocal(np.log2(index + 2))\n",
    "    return 0\n",
    "\n",
    "\n",
    "def metrics(model, test_loader, top_k):\n",
    "    hits, dcgs = [], []\n",
    "\n",
    "    for user, item, label in test_loader:\n",
    "        item = item.to(device)\n",
    "        \n",
    "        predictions = model(user.to(device), item)\n",
    "        _, indices = torch.topk(predictions, top_k)\n",
    "        recommended = torch.take(item, indices).cpu().numpy().tolist()\n",
    "\n",
    "        item = item[0].item()\n",
    "        hits.append(hit_metric(item, recommended))\n",
    "        dcgs.append(dcg_metric(item, recommended))\n",
    "\n",
    "    return np.mean(hits), np.mean(dcgs)"
   ]
  },
  {
   "cell_type": "markdown",
   "metadata": {},
   "source": [
    "### Basic training loop\n",
    "\n",
    "Notes \n",
    " - resample new negatives at each epoch\n",
    " - no early stopping, checkpointing, LR decay etc.; this is a demo, remember?"
   ]
  },
  {
   "cell_type": "code",
   "execution_count": 11,
   "metadata": {},
   "outputs": [],
   "source": [
    "def train(model):\n",
    "    train_dataset = NCFDataset(train_data, item_num, train_mat, train_negative_samples)\n",
    "    train_loader = td.DataLoader(train_dataset, batch_size=batch_size, shuffle=True, num_workers=4)\n",
    "\n",
    "    test_dataset = NCFDataset(test_data, item_num, train_mat)\n",
    "    test_loader = td.DataLoader(test_dataset, batch_size=test_negative_samples+1, shuffle=False, num_workers=0)\n",
    "    \n",
    "    loss_function = nn.BCEWithLogitsLoss()\n",
    "    optimizer = to.Adam(model.parameters())\n",
    "\n",
    "    history = []\n",
    "    for epoch in range(epochs):\n",
    "        model.train()\n",
    "        \n",
    "        train_loader.dataset.reset()\n",
    "\n",
    "        start_time = time.time()\n",
    "        for user, item, label in tqdm.tqdm(train_loader):\n",
    "            model.zero_grad()\n",
    "            prediction = model(user.to(device), item.to(device))\n",
    "            loss = loss_function(prediction, label.to(device).float())\n",
    "            loss.backward()\n",
    "            optimizer.step()\n",
    "\n",
    "        model.eval()\n",
    "        hr, dcg = metrics(model, test_loader, top_k)\n",
    "        elapsed = time.time() - start_time\n",
    "        history.append({\"model\": model.name(), \"epoch\": epoch, \"hit_rate\": hr, \"dcg\": dcg, \"elapsed\": elapsed})\n",
    "\n",
    "        print(\"[{model}] epoch: {epoch}, hit rate: {hit_rate}, dcg: {dcg}\".format(**history[-1]))\n",
    "    \n",
    "    return history"
   ]
  },
  {
   "cell_type": "markdown",
   "metadata": {},
   "source": [
    "### Experiment\n",
    "\n",
    "It takes a couple of minutes per epoch on GTX 1080"
   ]
  },
  {
   "cell_type": "code",
   "execution_count": null,
   "metadata": {},
   "outputs": [],
   "source": [
    "print(\"# Train NCF\")\n",
    "ncf = Ncf(user_num, item_num, embedding_dim, hidden_dim).to(device)\n",
    "ncf_history = train(ncf)\n",
    "\n",
    "print(\"# Train FunkSVD\")\n",
    "svd = FunkSvd(user_num, item_num, embedding_dim).to(device)\n",
    "svd_history = train(svd)"
   ]
  },
  {
   "cell_type": "code",
   "execution_count": 13,
   "metadata": {},
   "outputs": [],
   "source": [
    "history = pd.DataFrame(ncf_history + svd_history)"
   ]
  },
  {
   "cell_type": "code",
   "execution_count": 14,
   "metadata": {},
   "outputs": [
    {
     "data": {
      "image/png": "[encoded data removed]",
      "text/plain": [
       "<Figure size 1296x216 with 3 Axes>"
      ]
     },
     "metadata": {
      "needs_background": "light"
     },
     "output_type": "display_data"
    }
   ],
   "source": [
    "columns = [\"hit_rate\", \"dcg\", \"elapsed\"]\n",
    "\n",
    "figure, axes = pl.subplots(nrows=1, ncols=3, sharex=True, figsize=(18, 3))\n",
    "\n",
    "for j, column in enumerate(columns):\n",
    "    sns.lineplot(x=\"epoch\", y=column, hue=\"model\", data=history, ax=axes[j])"
   ]
  },
  {
   "cell_type": "code",
   "execution_count": null,
   "metadata": {},
   "outputs": [],
   "source": []
  }
 ],
 "metadata": {
  "kernelspec": {
   "display_name": "Python 3",
   "language": "python",
   "name": "python3"
  },
  "language_info": {
   "codemirror_mode": {
    "name": "ipython",
    "version": 3
   },
   "file_extension": ".py",
   "mimetype": "text/x-python",
   "name": "python",
   "nbconvert_exporter": "python",
   "pygments_lexer": "ipython3",
   "version": "3.8.1"
  }
 },
 "nbformat": 4,
 "nbformat_minor": 4
}
